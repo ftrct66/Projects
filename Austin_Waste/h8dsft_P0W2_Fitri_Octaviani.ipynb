{
  "nbformat": 4,
  "nbformat_minor": 0,
  "metadata": {
    "colab": {
      "provenance": []
    },
    "kernelspec": {
      "name": "python3",
      "display_name": "Python 3"
    },
    "language_info": {
      "name": "python"
    }
  },
  "cells": [
    {
      "cell_type": "markdown",
      "source": [
        "# **GRADED CHALLENGE 2**"
      ],
      "metadata": {
        "id": "_lGsz__zSBjM"
      }
    },
    {
      "cell_type": "markdown",
      "source": [
        "# INTRODUCTION\n",
        "\n",
        "Name    : Fitri Octaviani\n",
        "\n",
        "Batch   : HCK 006"
      ],
      "metadata": {
        "id": "ao8nAFDcSWCh"
      }
    },
    {
      "cell_type": "markdown",
      "source": [
        "# SQL QUERY\n",
        "\n",
        "\n",
        "\n",
        "\n",
        "```\n",
        "SELECT report_date, load_time, load_type, load_weight, dropoff_site FROM `bigquery-public-data.austin_waste.waste_and_diversion`\n",
        "WHERE report_date BETWEEN '2021-01-01' AND '2021-07-21'\n",
        "ORDER BY report_date ASC\n",
        "```\n",
        "\n"
      ],
      "metadata": {
        "id": "q3v3QaNxSlYT"
      }
    },
    {
      "cell_type": "markdown",
      "source": [
        "# **Problem 1 (Stats)**"
      ],
      "metadata": {
        "id": "Z4nZ8JaOw1Pl"
      }
    },
    {
      "cell_type": "markdown",
      "source": [
        " ## Import Library\n"
      ],
      "metadata": {
        "id": "DtNFf6IoS3Yj"
      }
    },
    {
      "cell_type": "code",
      "execution_count": 1,
      "metadata": {
        "id": "NNbJM-k2hm5R"
      },
      "outputs": [],
      "source": [
        "import pandas as pd\n",
        "import numpy as np\n",
        "import matplotlib.pyplot as plt\n",
        "import seaborn as sns\n",
        "from scipy import stats"
      ]
    },
    {
      "cell_type": "markdown",
      "source": [
        "## Data Loading"
      ],
      "metadata": {
        "id": "yi9pLV4NS9rW"
      }
    },
    {
      "cell_type": "markdown",
      "source": [
        "1. Melakukan perhitungan dan analisa statistik, pembersihan data (missing value)."
      ],
      "metadata": {
        "id": "kNtTq2yIxNYg"
      }
    },
    {
      "cell_type": "code",
      "source": [
        "# parse_date : mengubah representasi string dari nilai tanggal dan waktu menjadi DateTime yang setara\n",
        "df = pd.read_csv('/content/sample_data/h8dsft_P0GC2_Fitri Octaviani.csv', parse_dates=['report_date'])\n",
        "df"
      ],
      "metadata": {
        "colab": {
          "base_uri": "https://localhost:8080/",
          "height": 424
        },
        "id": "uW9L3aHxh_Ua",
        "outputId": "1000becf-bb10-4f06-b6c0-cd11594d9008"
      },
      "execution_count": 2,
      "outputs": [
        {
          "output_type": "execute_result",
          "data": {
            "text/plain": [
              "      report_date                load_time load_type  load_weight  \\\n",
              "0      2021-01-01  2021-01-01 12:00:00 UTC  SWEEPING          NaN   \n",
              "1      2021-01-01  2021-01-01 12:00:00 UTC  SWEEPING          NaN   \n",
              "2      2021-01-01  2021-01-01 12:00:00 UTC  SWEEPING          NaN   \n",
              "3      2021-01-01  2021-01-01 12:00:00 UTC  SWEEPING          NaN   \n",
              "4      2021-01-02  2021-01-02 09:24:00 UTC     TIRES       1640.0   \n",
              "...           ...                      ...       ...          ...   \n",
              "26152  2021-07-09  2021-07-09 09:48:00 UTC     BRUSH       8240.0   \n",
              "26153  2021-07-09  2021-07-09 12:02:00 UTC     BRUSH       4160.0   \n",
              "26154  2021-07-09  2021-07-09 11:55:00 UTC     BRUSH       4340.0   \n",
              "26155  2021-07-09  2021-07-09 12:00:00 UTC    LITTER       1900.0   \n",
              "26156  2021-07-09  2021-07-09 12:00:00 UTC    LITTER       3040.0   \n",
              "\n",
              "       dropoff_site  \n",
              "0       ONION CREEK  \n",
              "1       ONION CREEK  \n",
              "2       ONION CREEK  \n",
              "3       ONION CREEK  \n",
              "4               MRF  \n",
              "...             ...  \n",
              "26152  HORNSBY BEND  \n",
              "26153  HORNSBY BEND  \n",
              "26154  HORNSBY BEND  \n",
              "26155  TDS LANDFILL  \n",
              "26156  TDS LANDFILL  \n",
              "\n",
              "[26157 rows x 5 columns]"
            ],
            "text/html": [
              "\n",
              "  <div id=\"df-73db6fd0-819d-419b-91a6-94f7dbcd9986\">\n",
              "    <div class=\"colab-df-container\">\n",
              "      <div>\n",
              "<style scoped>\n",
              "    .dataframe tbody tr th:only-of-type {\n",
              "        vertical-align: middle;\n",
              "    }\n",
              "\n",
              "    .dataframe tbody tr th {\n",
              "        vertical-align: top;\n",
              "    }\n",
              "\n",
              "    .dataframe thead th {\n",
              "        text-align: right;\n",
              "    }\n",
              "</style>\n",
              "<table border=\"1\" class=\"dataframe\">\n",
              "  <thead>\n",
              "    <tr style=\"text-align: right;\">\n",
              "      <th></th>\n",
              "      <th>report_date</th>\n",
              "      <th>load_time</th>\n",
              "      <th>load_type</th>\n",
              "      <th>load_weight</th>\n",
              "      <th>dropoff_site</th>\n",
              "    </tr>\n",
              "  </thead>\n",
              "  <tbody>\n",
              "    <tr>\n",
              "      <th>0</th>\n",
              "      <td>2021-01-01</td>\n",
              "      <td>2021-01-01 12:00:00 UTC</td>\n",
              "      <td>SWEEPING</td>\n",
              "      <td>NaN</td>\n",
              "      <td>ONION CREEK</td>\n",
              "    </tr>\n",
              "    <tr>\n",
              "      <th>1</th>\n",
              "      <td>2021-01-01</td>\n",
              "      <td>2021-01-01 12:00:00 UTC</td>\n",
              "      <td>SWEEPING</td>\n",
              "      <td>NaN</td>\n",
              "      <td>ONION CREEK</td>\n",
              "    </tr>\n",
              "    <tr>\n",
              "      <th>2</th>\n",
              "      <td>2021-01-01</td>\n",
              "      <td>2021-01-01 12:00:00 UTC</td>\n",
              "      <td>SWEEPING</td>\n",
              "      <td>NaN</td>\n",
              "      <td>ONION CREEK</td>\n",
              "    </tr>\n",
              "    <tr>\n",
              "      <th>3</th>\n",
              "      <td>2021-01-01</td>\n",
              "      <td>2021-01-01 12:00:00 UTC</td>\n",
              "      <td>SWEEPING</td>\n",
              "      <td>NaN</td>\n",
              "      <td>ONION CREEK</td>\n",
              "    </tr>\n",
              "    <tr>\n",
              "      <th>4</th>\n",
              "      <td>2021-01-02</td>\n",
              "      <td>2021-01-02 09:24:00 UTC</td>\n",
              "      <td>TIRES</td>\n",
              "      <td>1640.0</td>\n",
              "      <td>MRF</td>\n",
              "    </tr>\n",
              "    <tr>\n",
              "      <th>...</th>\n",
              "      <td>...</td>\n",
              "      <td>...</td>\n",
              "      <td>...</td>\n",
              "      <td>...</td>\n",
              "      <td>...</td>\n",
              "    </tr>\n",
              "    <tr>\n",
              "      <th>26152</th>\n",
              "      <td>2021-07-09</td>\n",
              "      <td>2021-07-09 09:48:00 UTC</td>\n",
              "      <td>BRUSH</td>\n",
              "      <td>8240.0</td>\n",
              "      <td>HORNSBY BEND</td>\n",
              "    </tr>\n",
              "    <tr>\n",
              "      <th>26153</th>\n",
              "      <td>2021-07-09</td>\n",
              "      <td>2021-07-09 12:02:00 UTC</td>\n",
              "      <td>BRUSH</td>\n",
              "      <td>4160.0</td>\n",
              "      <td>HORNSBY BEND</td>\n",
              "    </tr>\n",
              "    <tr>\n",
              "      <th>26154</th>\n",
              "      <td>2021-07-09</td>\n",
              "      <td>2021-07-09 11:55:00 UTC</td>\n",
              "      <td>BRUSH</td>\n",
              "      <td>4340.0</td>\n",
              "      <td>HORNSBY BEND</td>\n",
              "    </tr>\n",
              "    <tr>\n",
              "      <th>26155</th>\n",
              "      <td>2021-07-09</td>\n",
              "      <td>2021-07-09 12:00:00 UTC</td>\n",
              "      <td>LITTER</td>\n",
              "      <td>1900.0</td>\n",
              "      <td>TDS LANDFILL</td>\n",
              "    </tr>\n",
              "    <tr>\n",
              "      <th>26156</th>\n",
              "      <td>2021-07-09</td>\n",
              "      <td>2021-07-09 12:00:00 UTC</td>\n",
              "      <td>LITTER</td>\n",
              "      <td>3040.0</td>\n",
              "      <td>TDS LANDFILL</td>\n",
              "    </tr>\n",
              "  </tbody>\n",
              "</table>\n",
              "<p>26157 rows × 5 columns</p>\n",
              "</div>\n",
              "      <button class=\"colab-df-convert\" onclick=\"convertToInteractive('df-73db6fd0-819d-419b-91a6-94f7dbcd9986')\"\n",
              "              title=\"Convert this dataframe to an interactive table.\"\n",
              "              style=\"display:none;\">\n",
              "        \n",
              "  <svg xmlns=\"http://www.w3.org/2000/svg\" height=\"24px\"viewBox=\"0 0 24 24\"\n",
              "       width=\"24px\">\n",
              "    <path d=\"M0 0h24v24H0V0z\" fill=\"none\"/>\n",
              "    <path d=\"M18.56 5.44l.94 2.06.94-2.06 2.06-.94-2.06-.94-.94-2.06-.94 2.06-2.06.94zm-11 1L8.5 8.5l.94-2.06 2.06-.94-2.06-.94L8.5 2.5l-.94 2.06-2.06.94zm10 10l.94 2.06.94-2.06 2.06-.94-2.06-.94-.94-2.06-.94 2.06-2.06.94z\"/><path d=\"M17.41 7.96l-1.37-1.37c-.4-.4-.92-.59-1.43-.59-.52 0-1.04.2-1.43.59L10.3 9.45l-7.72 7.72c-.78.78-.78 2.05 0 2.83L4 21.41c.39.39.9.59 1.41.59.51 0 1.02-.2 1.41-.59l7.78-7.78 2.81-2.81c.8-.78.8-2.07 0-2.86zM5.41 20L4 18.59l7.72-7.72 1.47 1.35L5.41 20z\"/>\n",
              "  </svg>\n",
              "      </button>\n",
              "      \n",
              "  <style>\n",
              "    .colab-df-container {\n",
              "      display:flex;\n",
              "      flex-wrap:wrap;\n",
              "      gap: 12px;\n",
              "    }\n",
              "\n",
              "    .colab-df-convert {\n",
              "      background-color: #E8F0FE;\n",
              "      border: none;\n",
              "      border-radius: 50%;\n",
              "      cursor: pointer;\n",
              "      display: none;\n",
              "      fill: #1967D2;\n",
              "      height: 32px;\n",
              "      padding: 0 0 0 0;\n",
              "      width: 32px;\n",
              "    }\n",
              "\n",
              "    .colab-df-convert:hover {\n",
              "      background-color: #E2EBFA;\n",
              "      box-shadow: 0px 1px 2px rgba(60, 64, 67, 0.3), 0px 1px 3px 1px rgba(60, 64, 67, 0.15);\n",
              "      fill: #174EA6;\n",
              "    }\n",
              "\n",
              "    [theme=dark] .colab-df-convert {\n",
              "      background-color: #3B4455;\n",
              "      fill: #D2E3FC;\n",
              "    }\n",
              "\n",
              "    [theme=dark] .colab-df-convert:hover {\n",
              "      background-color: #434B5C;\n",
              "      box-shadow: 0px 1px 3px 1px rgba(0, 0, 0, 0.15);\n",
              "      filter: drop-shadow(0px 1px 2px rgba(0, 0, 0, 0.3));\n",
              "      fill: #FFFFFF;\n",
              "    }\n",
              "  </style>\n",
              "\n",
              "      <script>\n",
              "        const buttonEl =\n",
              "          document.querySelector('#df-73db6fd0-819d-419b-91a6-94f7dbcd9986 button.colab-df-convert');\n",
              "        buttonEl.style.display =\n",
              "          google.colab.kernel.accessAllowed ? 'block' : 'none';\n",
              "\n",
              "        async function convertToInteractive(key) {\n",
              "          const element = document.querySelector('#df-73db6fd0-819d-419b-91a6-94f7dbcd9986');\n",
              "          const dataTable =\n",
              "            await google.colab.kernel.invokeFunction('convertToInteractive',\n",
              "                                                     [key], {});\n",
              "          if (!dataTable) return;\n",
              "\n",
              "          const docLinkHtml = 'Like what you see? Visit the ' +\n",
              "            '<a target=\"_blank\" href=https://colab.research.google.com/notebooks/data_table.ipynb>data table notebook</a>'\n",
              "            + ' to learn more about interactive tables.';\n",
              "          element.innerHTML = '';\n",
              "          dataTable['output_type'] = 'display_data';\n",
              "          await google.colab.output.renderOutput(dataTable, element);\n",
              "          const docLink = document.createElement('div');\n",
              "          docLink.innerHTML = docLinkHtml;\n",
              "          element.appendChild(docLink);\n",
              "        }\n",
              "      </script>\n",
              "    </div>\n",
              "  </div>\n",
              "  "
            ]
          },
          "metadata": {},
          "execution_count": 2
        }
      ]
    },
    {
      "cell_type": "code",
      "source": [
        "# menampilkan sejumlah baris dari bawah dataset\n",
        "df.tail()"
      ],
      "metadata": {
        "colab": {
          "base_uri": "https://localhost:8080/",
          "height": 206
        },
        "id": "BqQjj1G1iXmT",
        "outputId": "da9e1627-e48f-441f-ea5d-851197b56187"
      },
      "execution_count": 3,
      "outputs": [
        {
          "output_type": "execute_result",
          "data": {
            "text/plain": [
              "      report_date                load_time load_type  load_weight  \\\n",
              "26152  2021-07-09  2021-07-09 09:48:00 UTC     BRUSH       8240.0   \n",
              "26153  2021-07-09  2021-07-09 12:02:00 UTC     BRUSH       4160.0   \n",
              "26154  2021-07-09  2021-07-09 11:55:00 UTC     BRUSH       4340.0   \n",
              "26155  2021-07-09  2021-07-09 12:00:00 UTC    LITTER       1900.0   \n",
              "26156  2021-07-09  2021-07-09 12:00:00 UTC    LITTER       3040.0   \n",
              "\n",
              "       dropoff_site  \n",
              "26152  HORNSBY BEND  \n",
              "26153  HORNSBY BEND  \n",
              "26154  HORNSBY BEND  \n",
              "26155  TDS LANDFILL  \n",
              "26156  TDS LANDFILL  "
            ],
            "text/html": [
              "\n",
              "  <div id=\"df-6aa4c654-b533-464d-a1cd-0f733c5d589e\">\n",
              "    <div class=\"colab-df-container\">\n",
              "      <div>\n",
              "<style scoped>\n",
              "    .dataframe tbody tr th:only-of-type {\n",
              "        vertical-align: middle;\n",
              "    }\n",
              "\n",
              "    .dataframe tbody tr th {\n",
              "        vertical-align: top;\n",
              "    }\n",
              "\n",
              "    .dataframe thead th {\n",
              "        text-align: right;\n",
              "    }\n",
              "</style>\n",
              "<table border=\"1\" class=\"dataframe\">\n",
              "  <thead>\n",
              "    <tr style=\"text-align: right;\">\n",
              "      <th></th>\n",
              "      <th>report_date</th>\n",
              "      <th>load_time</th>\n",
              "      <th>load_type</th>\n",
              "      <th>load_weight</th>\n",
              "      <th>dropoff_site</th>\n",
              "    </tr>\n",
              "  </thead>\n",
              "  <tbody>\n",
              "    <tr>\n",
              "      <th>26152</th>\n",
              "      <td>2021-07-09</td>\n",
              "      <td>2021-07-09 09:48:00 UTC</td>\n",
              "      <td>BRUSH</td>\n",
              "      <td>8240.0</td>\n",
              "      <td>HORNSBY BEND</td>\n",
              "    </tr>\n",
              "    <tr>\n",
              "      <th>26153</th>\n",
              "      <td>2021-07-09</td>\n",
              "      <td>2021-07-09 12:02:00 UTC</td>\n",
              "      <td>BRUSH</td>\n",
              "      <td>4160.0</td>\n",
              "      <td>HORNSBY BEND</td>\n",
              "    </tr>\n",
              "    <tr>\n",
              "      <th>26154</th>\n",
              "      <td>2021-07-09</td>\n",
              "      <td>2021-07-09 11:55:00 UTC</td>\n",
              "      <td>BRUSH</td>\n",
              "      <td>4340.0</td>\n",
              "      <td>HORNSBY BEND</td>\n",
              "    </tr>\n",
              "    <tr>\n",
              "      <th>26155</th>\n",
              "      <td>2021-07-09</td>\n",
              "      <td>2021-07-09 12:00:00 UTC</td>\n",
              "      <td>LITTER</td>\n",
              "      <td>1900.0</td>\n",
              "      <td>TDS LANDFILL</td>\n",
              "    </tr>\n",
              "    <tr>\n",
              "      <th>26156</th>\n",
              "      <td>2021-07-09</td>\n",
              "      <td>2021-07-09 12:00:00 UTC</td>\n",
              "      <td>LITTER</td>\n",
              "      <td>3040.0</td>\n",
              "      <td>TDS LANDFILL</td>\n",
              "    </tr>\n",
              "  </tbody>\n",
              "</table>\n",
              "</div>\n",
              "      <button class=\"colab-df-convert\" onclick=\"convertToInteractive('df-6aa4c654-b533-464d-a1cd-0f733c5d589e')\"\n",
              "              title=\"Convert this dataframe to an interactive table.\"\n",
              "              style=\"display:none;\">\n",
              "        \n",
              "  <svg xmlns=\"http://www.w3.org/2000/svg\" height=\"24px\"viewBox=\"0 0 24 24\"\n",
              "       width=\"24px\">\n",
              "    <path d=\"M0 0h24v24H0V0z\" fill=\"none\"/>\n",
              "    <path d=\"M18.56 5.44l.94 2.06.94-2.06 2.06-.94-2.06-.94-.94-2.06-.94 2.06-2.06.94zm-11 1L8.5 8.5l.94-2.06 2.06-.94-2.06-.94L8.5 2.5l-.94 2.06-2.06.94zm10 10l.94 2.06.94-2.06 2.06-.94-2.06-.94-.94-2.06-.94 2.06-2.06.94z\"/><path d=\"M17.41 7.96l-1.37-1.37c-.4-.4-.92-.59-1.43-.59-.52 0-1.04.2-1.43.59L10.3 9.45l-7.72 7.72c-.78.78-.78 2.05 0 2.83L4 21.41c.39.39.9.59 1.41.59.51 0 1.02-.2 1.41-.59l7.78-7.78 2.81-2.81c.8-.78.8-2.07 0-2.86zM5.41 20L4 18.59l7.72-7.72 1.47 1.35L5.41 20z\"/>\n",
              "  </svg>\n",
              "      </button>\n",
              "      \n",
              "  <style>\n",
              "    .colab-df-container {\n",
              "      display:flex;\n",
              "      flex-wrap:wrap;\n",
              "      gap: 12px;\n",
              "    }\n",
              "\n",
              "    .colab-df-convert {\n",
              "      background-color: #E8F0FE;\n",
              "      border: none;\n",
              "      border-radius: 50%;\n",
              "      cursor: pointer;\n",
              "      display: none;\n",
              "      fill: #1967D2;\n",
              "      height: 32px;\n",
              "      padding: 0 0 0 0;\n",
              "      width: 32px;\n",
              "    }\n",
              "\n",
              "    .colab-df-convert:hover {\n",
              "      background-color: #E2EBFA;\n",
              "      box-shadow: 0px 1px 2px rgba(60, 64, 67, 0.3), 0px 1px 3px 1px rgba(60, 64, 67, 0.15);\n",
              "      fill: #174EA6;\n",
              "    }\n",
              "\n",
              "    [theme=dark] .colab-df-convert {\n",
              "      background-color: #3B4455;\n",
              "      fill: #D2E3FC;\n",
              "    }\n",
              "\n",
              "    [theme=dark] .colab-df-convert:hover {\n",
              "      background-color: #434B5C;\n",
              "      box-shadow: 0px 1px 3px 1px rgba(0, 0, 0, 0.15);\n",
              "      filter: drop-shadow(0px 1px 2px rgba(0, 0, 0, 0.3));\n",
              "      fill: #FFFFFF;\n",
              "    }\n",
              "  </style>\n",
              "\n",
              "      <script>\n",
              "        const buttonEl =\n",
              "          document.querySelector('#df-6aa4c654-b533-464d-a1cd-0f733c5d589e button.colab-df-convert');\n",
              "        buttonEl.style.display =\n",
              "          google.colab.kernel.accessAllowed ? 'block' : 'none';\n",
              "\n",
              "        async function convertToInteractive(key) {\n",
              "          const element = document.querySelector('#df-6aa4c654-b533-464d-a1cd-0f733c5d589e');\n",
              "          const dataTable =\n",
              "            await google.colab.kernel.invokeFunction('convertToInteractive',\n",
              "                                                     [key], {});\n",
              "          if (!dataTable) return;\n",
              "\n",
              "          const docLinkHtml = 'Like what you see? Visit the ' +\n",
              "            '<a target=\"_blank\" href=https://colab.research.google.com/notebooks/data_table.ipynb>data table notebook</a>'\n",
              "            + ' to learn more about interactive tables.';\n",
              "          element.innerHTML = '';\n",
              "          dataTable['output_type'] = 'display_data';\n",
              "          await google.colab.output.renderOutput(dataTable, element);\n",
              "          const docLink = document.createElement('div');\n",
              "          docLink.innerHTML = docLinkHtml;\n",
              "          element.appendChild(docLink);\n",
              "        }\n",
              "      </script>\n",
              "    </div>\n",
              "  </div>\n",
              "  "
            ]
          },
          "metadata": {},
          "execution_count": 3
        }
      ]
    },
    {
      "cell_type": "code",
      "source": [
        "# menampilkan sejumlah baris pertama dari atas dataset\n",
        "df.head()"
      ],
      "metadata": {
        "colab": {
          "base_uri": "https://localhost:8080/",
          "height": 206
        },
        "id": "1Aeki3mkihLF",
        "outputId": "721686ec-f49c-40b6-e749-af8cff0494cf"
      },
      "execution_count": 4,
      "outputs": [
        {
          "output_type": "execute_result",
          "data": {
            "text/plain": [
              "  report_date                load_time load_type  load_weight dropoff_site\n",
              "0  2021-01-01  2021-01-01 12:00:00 UTC  SWEEPING          NaN  ONION CREEK\n",
              "1  2021-01-01  2021-01-01 12:00:00 UTC  SWEEPING          NaN  ONION CREEK\n",
              "2  2021-01-01  2021-01-01 12:00:00 UTC  SWEEPING          NaN  ONION CREEK\n",
              "3  2021-01-01  2021-01-01 12:00:00 UTC  SWEEPING          NaN  ONION CREEK\n",
              "4  2021-01-02  2021-01-02 09:24:00 UTC     TIRES       1640.0          MRF"
            ],
            "text/html": [
              "\n",
              "  <div id=\"df-1c4bb51a-165f-4c2d-96fa-463db989b029\">\n",
              "    <div class=\"colab-df-container\">\n",
              "      <div>\n",
              "<style scoped>\n",
              "    .dataframe tbody tr th:only-of-type {\n",
              "        vertical-align: middle;\n",
              "    }\n",
              "\n",
              "    .dataframe tbody tr th {\n",
              "        vertical-align: top;\n",
              "    }\n",
              "\n",
              "    .dataframe thead th {\n",
              "        text-align: right;\n",
              "    }\n",
              "</style>\n",
              "<table border=\"1\" class=\"dataframe\">\n",
              "  <thead>\n",
              "    <tr style=\"text-align: right;\">\n",
              "      <th></th>\n",
              "      <th>report_date</th>\n",
              "      <th>load_time</th>\n",
              "      <th>load_type</th>\n",
              "      <th>load_weight</th>\n",
              "      <th>dropoff_site</th>\n",
              "    </tr>\n",
              "  </thead>\n",
              "  <tbody>\n",
              "    <tr>\n",
              "      <th>0</th>\n",
              "      <td>2021-01-01</td>\n",
              "      <td>2021-01-01 12:00:00 UTC</td>\n",
              "      <td>SWEEPING</td>\n",
              "      <td>NaN</td>\n",
              "      <td>ONION CREEK</td>\n",
              "    </tr>\n",
              "    <tr>\n",
              "      <th>1</th>\n",
              "      <td>2021-01-01</td>\n",
              "      <td>2021-01-01 12:00:00 UTC</td>\n",
              "      <td>SWEEPING</td>\n",
              "      <td>NaN</td>\n",
              "      <td>ONION CREEK</td>\n",
              "    </tr>\n",
              "    <tr>\n",
              "      <th>2</th>\n",
              "      <td>2021-01-01</td>\n",
              "      <td>2021-01-01 12:00:00 UTC</td>\n",
              "      <td>SWEEPING</td>\n",
              "      <td>NaN</td>\n",
              "      <td>ONION CREEK</td>\n",
              "    </tr>\n",
              "    <tr>\n",
              "      <th>3</th>\n",
              "      <td>2021-01-01</td>\n",
              "      <td>2021-01-01 12:00:00 UTC</td>\n",
              "      <td>SWEEPING</td>\n",
              "      <td>NaN</td>\n",
              "      <td>ONION CREEK</td>\n",
              "    </tr>\n",
              "    <tr>\n",
              "      <th>4</th>\n",
              "      <td>2021-01-02</td>\n",
              "      <td>2021-01-02 09:24:00 UTC</td>\n",
              "      <td>TIRES</td>\n",
              "      <td>1640.0</td>\n",
              "      <td>MRF</td>\n",
              "    </tr>\n",
              "  </tbody>\n",
              "</table>\n",
              "</div>\n",
              "      <button class=\"colab-df-convert\" onclick=\"convertToInteractive('df-1c4bb51a-165f-4c2d-96fa-463db989b029')\"\n",
              "              title=\"Convert this dataframe to an interactive table.\"\n",
              "              style=\"display:none;\">\n",
              "        \n",
              "  <svg xmlns=\"http://www.w3.org/2000/svg\" height=\"24px\"viewBox=\"0 0 24 24\"\n",
              "       width=\"24px\">\n",
              "    <path d=\"M0 0h24v24H0V0z\" fill=\"none\"/>\n",
              "    <path d=\"M18.56 5.44l.94 2.06.94-2.06 2.06-.94-2.06-.94-.94-2.06-.94 2.06-2.06.94zm-11 1L8.5 8.5l.94-2.06 2.06-.94-2.06-.94L8.5 2.5l-.94 2.06-2.06.94zm10 10l.94 2.06.94-2.06 2.06-.94-2.06-.94-.94-2.06-.94 2.06-2.06.94z\"/><path d=\"M17.41 7.96l-1.37-1.37c-.4-.4-.92-.59-1.43-.59-.52 0-1.04.2-1.43.59L10.3 9.45l-7.72 7.72c-.78.78-.78 2.05 0 2.83L4 21.41c.39.39.9.59 1.41.59.51 0 1.02-.2 1.41-.59l7.78-7.78 2.81-2.81c.8-.78.8-2.07 0-2.86zM5.41 20L4 18.59l7.72-7.72 1.47 1.35L5.41 20z\"/>\n",
              "  </svg>\n",
              "      </button>\n",
              "      \n",
              "  <style>\n",
              "    .colab-df-container {\n",
              "      display:flex;\n",
              "      flex-wrap:wrap;\n",
              "      gap: 12px;\n",
              "    }\n",
              "\n",
              "    .colab-df-convert {\n",
              "      background-color: #E8F0FE;\n",
              "      border: none;\n",
              "      border-radius: 50%;\n",
              "      cursor: pointer;\n",
              "      display: none;\n",
              "      fill: #1967D2;\n",
              "      height: 32px;\n",
              "      padding: 0 0 0 0;\n",
              "      width: 32px;\n",
              "    }\n",
              "\n",
              "    .colab-df-convert:hover {\n",
              "      background-color: #E2EBFA;\n",
              "      box-shadow: 0px 1px 2px rgba(60, 64, 67, 0.3), 0px 1px 3px 1px rgba(60, 64, 67, 0.15);\n",
              "      fill: #174EA6;\n",
              "    }\n",
              "\n",
              "    [theme=dark] .colab-df-convert {\n",
              "      background-color: #3B4455;\n",
              "      fill: #D2E3FC;\n",
              "    }\n",
              "\n",
              "    [theme=dark] .colab-df-convert:hover {\n",
              "      background-color: #434B5C;\n",
              "      box-shadow: 0px 1px 3px 1px rgba(0, 0, 0, 0.15);\n",
              "      filter: drop-shadow(0px 1px 2px rgba(0, 0, 0, 0.3));\n",
              "      fill: #FFFFFF;\n",
              "    }\n",
              "  </style>\n",
              "\n",
              "      <script>\n",
              "        const buttonEl =\n",
              "          document.querySelector('#df-1c4bb51a-165f-4c2d-96fa-463db989b029 button.colab-df-convert');\n",
              "        buttonEl.style.display =\n",
              "          google.colab.kernel.accessAllowed ? 'block' : 'none';\n",
              "\n",
              "        async function convertToInteractive(key) {\n",
              "          const element = document.querySelector('#df-1c4bb51a-165f-4c2d-96fa-463db989b029');\n",
              "          const dataTable =\n",
              "            await google.colab.kernel.invokeFunction('convertToInteractive',\n",
              "                                                     [key], {});\n",
              "          if (!dataTable) return;\n",
              "\n",
              "          const docLinkHtml = 'Like what you see? Visit the ' +\n",
              "            '<a target=\"_blank\" href=https://colab.research.google.com/notebooks/data_table.ipynb>data table notebook</a>'\n",
              "            + ' to learn more about interactive tables.';\n",
              "          element.innerHTML = '';\n",
              "          dataTable['output_type'] = 'display_data';\n",
              "          await google.colab.output.renderOutput(dataTable, element);\n",
              "          const docLink = document.createElement('div');\n",
              "          docLink.innerHTML = docLinkHtml;\n",
              "          element.appendChild(docLink);\n",
              "        }\n",
              "      </script>\n",
              "    </div>\n",
              "  </div>\n",
              "  "
            ]
          },
          "metadata": {},
          "execution_count": 4
        }
      ]
    },
    {
      "cell_type": "code",
      "source": [
        "# menampilkan hasil info dari dataframe\n",
        "df.info()"
      ],
      "metadata": {
        "colab": {
          "base_uri": "https://localhost:8080/"
        },
        "id": "6XkDqkWFijVT",
        "outputId": "d20e00a7-3180-4546-889c-e253acb34d31"
      },
      "execution_count": 5,
      "outputs": [
        {
          "output_type": "stream",
          "name": "stdout",
          "text": [
            "<class 'pandas.core.frame.DataFrame'>\n",
            "RangeIndex: 26157 entries, 0 to 26156\n",
            "Data columns (total 5 columns):\n",
            " #   Column        Non-Null Count  Dtype         \n",
            "---  ------        --------------  -----         \n",
            " 0   report_date   26157 non-null  datetime64[ns]\n",
            " 1   load_time     26157 non-null  object        \n",
            " 2   load_type     26157 non-null  object        \n",
            " 3   load_weight   25109 non-null  float64       \n",
            " 4   dropoff_site  26157 non-null  object        \n",
            "dtypes: datetime64[ns](1), float64(1), object(3)\n",
            "memory usage: 1021.9+ KB\n"
          ]
        }
      ]
    },
    {
      "cell_type": "markdown",
      "source": [
        "## Missing Value"
      ],
      "metadata": {
        "id": "yocrHPIjiqwF"
      }
    },
    {
      "cell_type": "code",
      "source": [
        "# missing value dari dataset\n",
        "df.isnull().sum()"
      ],
      "metadata": {
        "colab": {
          "base_uri": "https://localhost:8080/"
        },
        "id": "tWr-J0wLisBP",
        "outputId": "06d4a0c3-140d-4688-92bf-b66baac613e7"
      },
      "execution_count": 6,
      "outputs": [
        {
          "output_type": "execute_result",
          "data": {
            "text/plain": [
              "report_date        0\n",
              "load_time          0\n",
              "load_type          0\n",
              "load_weight     1048\n",
              "dropoff_site       0\n",
              "dtype: int64"
            ]
          },
          "metadata": {},
          "execution_count": 6
        }
      ]
    },
    {
      "cell_type": "markdown",
      "source": [
        "Dalam dataset tersebut terdapat missing value pada load_weight"
      ],
      "metadata": {
        "id": "aI5Dhucot3Uh"
      }
    },
    {
      "cell_type": "code",
      "source": [
        "# Isi nilai NA/NaN pada load_weight menggunakan metode yang ditentukan\n",
        "df['load_weight'] = df['load_weight'].fillna(df['load_weight'].median())\n",
        "df"
      ],
      "metadata": {
        "colab": {
          "base_uri": "https://localhost:8080/",
          "height": 424
        },
        "id": "eQVntmlBi51E",
        "outputId": "b423edef-bd8b-4619-fa00-be6a658964d4"
      },
      "execution_count": 7,
      "outputs": [
        {
          "output_type": "execute_result",
          "data": {
            "text/plain": [
              "      report_date                load_time load_type  load_weight  \\\n",
              "0      2021-01-01  2021-01-01 12:00:00 UTC  SWEEPING      11300.0   \n",
              "1      2021-01-01  2021-01-01 12:00:00 UTC  SWEEPING      11300.0   \n",
              "2      2021-01-01  2021-01-01 12:00:00 UTC  SWEEPING      11300.0   \n",
              "3      2021-01-01  2021-01-01 12:00:00 UTC  SWEEPING      11300.0   \n",
              "4      2021-01-02  2021-01-02 09:24:00 UTC     TIRES       1640.0   \n",
              "...           ...                      ...       ...          ...   \n",
              "26152  2021-07-09  2021-07-09 09:48:00 UTC     BRUSH       8240.0   \n",
              "26153  2021-07-09  2021-07-09 12:02:00 UTC     BRUSH       4160.0   \n",
              "26154  2021-07-09  2021-07-09 11:55:00 UTC     BRUSH       4340.0   \n",
              "26155  2021-07-09  2021-07-09 12:00:00 UTC    LITTER       1900.0   \n",
              "26156  2021-07-09  2021-07-09 12:00:00 UTC    LITTER       3040.0   \n",
              "\n",
              "       dropoff_site  \n",
              "0       ONION CREEK  \n",
              "1       ONION CREEK  \n",
              "2       ONION CREEK  \n",
              "3       ONION CREEK  \n",
              "4               MRF  \n",
              "...             ...  \n",
              "26152  HORNSBY BEND  \n",
              "26153  HORNSBY BEND  \n",
              "26154  HORNSBY BEND  \n",
              "26155  TDS LANDFILL  \n",
              "26156  TDS LANDFILL  \n",
              "\n",
              "[26157 rows x 5 columns]"
            ],
            "text/html": [
              "\n",
              "  <div id=\"df-49f0bd35-ed16-4920-bbf1-0d5955ed3cd8\">\n",
              "    <div class=\"colab-df-container\">\n",
              "      <div>\n",
              "<style scoped>\n",
              "    .dataframe tbody tr th:only-of-type {\n",
              "        vertical-align: middle;\n",
              "    }\n",
              "\n",
              "    .dataframe tbody tr th {\n",
              "        vertical-align: top;\n",
              "    }\n",
              "\n",
              "    .dataframe thead th {\n",
              "        text-align: right;\n",
              "    }\n",
              "</style>\n",
              "<table border=\"1\" class=\"dataframe\">\n",
              "  <thead>\n",
              "    <tr style=\"text-align: right;\">\n",
              "      <th></th>\n",
              "      <th>report_date</th>\n",
              "      <th>load_time</th>\n",
              "      <th>load_type</th>\n",
              "      <th>load_weight</th>\n",
              "      <th>dropoff_site</th>\n",
              "    </tr>\n",
              "  </thead>\n",
              "  <tbody>\n",
              "    <tr>\n",
              "      <th>0</th>\n",
              "      <td>2021-01-01</td>\n",
              "      <td>2021-01-01 12:00:00 UTC</td>\n",
              "      <td>SWEEPING</td>\n",
              "      <td>11300.0</td>\n",
              "      <td>ONION CREEK</td>\n",
              "    </tr>\n",
              "    <tr>\n",
              "      <th>1</th>\n",
              "      <td>2021-01-01</td>\n",
              "      <td>2021-01-01 12:00:00 UTC</td>\n",
              "      <td>SWEEPING</td>\n",
              "      <td>11300.0</td>\n",
              "      <td>ONION CREEK</td>\n",
              "    </tr>\n",
              "    <tr>\n",
              "      <th>2</th>\n",
              "      <td>2021-01-01</td>\n",
              "      <td>2021-01-01 12:00:00 UTC</td>\n",
              "      <td>SWEEPING</td>\n",
              "      <td>11300.0</td>\n",
              "      <td>ONION CREEK</td>\n",
              "    </tr>\n",
              "    <tr>\n",
              "      <th>3</th>\n",
              "      <td>2021-01-01</td>\n",
              "      <td>2021-01-01 12:00:00 UTC</td>\n",
              "      <td>SWEEPING</td>\n",
              "      <td>11300.0</td>\n",
              "      <td>ONION CREEK</td>\n",
              "    </tr>\n",
              "    <tr>\n",
              "      <th>4</th>\n",
              "      <td>2021-01-02</td>\n",
              "      <td>2021-01-02 09:24:00 UTC</td>\n",
              "      <td>TIRES</td>\n",
              "      <td>1640.0</td>\n",
              "      <td>MRF</td>\n",
              "    </tr>\n",
              "    <tr>\n",
              "      <th>...</th>\n",
              "      <td>...</td>\n",
              "      <td>...</td>\n",
              "      <td>...</td>\n",
              "      <td>...</td>\n",
              "      <td>...</td>\n",
              "    </tr>\n",
              "    <tr>\n",
              "      <th>26152</th>\n",
              "      <td>2021-07-09</td>\n",
              "      <td>2021-07-09 09:48:00 UTC</td>\n",
              "      <td>BRUSH</td>\n",
              "      <td>8240.0</td>\n",
              "      <td>HORNSBY BEND</td>\n",
              "    </tr>\n",
              "    <tr>\n",
              "      <th>26153</th>\n",
              "      <td>2021-07-09</td>\n",
              "      <td>2021-07-09 12:02:00 UTC</td>\n",
              "      <td>BRUSH</td>\n",
              "      <td>4160.0</td>\n",
              "      <td>HORNSBY BEND</td>\n",
              "    </tr>\n",
              "    <tr>\n",
              "      <th>26154</th>\n",
              "      <td>2021-07-09</td>\n",
              "      <td>2021-07-09 11:55:00 UTC</td>\n",
              "      <td>BRUSH</td>\n",
              "      <td>4340.0</td>\n",
              "      <td>HORNSBY BEND</td>\n",
              "    </tr>\n",
              "    <tr>\n",
              "      <th>26155</th>\n",
              "      <td>2021-07-09</td>\n",
              "      <td>2021-07-09 12:00:00 UTC</td>\n",
              "      <td>LITTER</td>\n",
              "      <td>1900.0</td>\n",
              "      <td>TDS LANDFILL</td>\n",
              "    </tr>\n",
              "    <tr>\n",
              "      <th>26156</th>\n",
              "      <td>2021-07-09</td>\n",
              "      <td>2021-07-09 12:00:00 UTC</td>\n",
              "      <td>LITTER</td>\n",
              "      <td>3040.0</td>\n",
              "      <td>TDS LANDFILL</td>\n",
              "    </tr>\n",
              "  </tbody>\n",
              "</table>\n",
              "<p>26157 rows × 5 columns</p>\n",
              "</div>\n",
              "      <button class=\"colab-df-convert\" onclick=\"convertToInteractive('df-49f0bd35-ed16-4920-bbf1-0d5955ed3cd8')\"\n",
              "              title=\"Convert this dataframe to an interactive table.\"\n",
              "              style=\"display:none;\">\n",
              "        \n",
              "  <svg xmlns=\"http://www.w3.org/2000/svg\" height=\"24px\"viewBox=\"0 0 24 24\"\n",
              "       width=\"24px\">\n",
              "    <path d=\"M0 0h24v24H0V0z\" fill=\"none\"/>\n",
              "    <path d=\"M18.56 5.44l.94 2.06.94-2.06 2.06-.94-2.06-.94-.94-2.06-.94 2.06-2.06.94zm-11 1L8.5 8.5l.94-2.06 2.06-.94-2.06-.94L8.5 2.5l-.94 2.06-2.06.94zm10 10l.94 2.06.94-2.06 2.06-.94-2.06-.94-.94-2.06-.94 2.06-2.06.94z\"/><path d=\"M17.41 7.96l-1.37-1.37c-.4-.4-.92-.59-1.43-.59-.52 0-1.04.2-1.43.59L10.3 9.45l-7.72 7.72c-.78.78-.78 2.05 0 2.83L4 21.41c.39.39.9.59 1.41.59.51 0 1.02-.2 1.41-.59l7.78-7.78 2.81-2.81c.8-.78.8-2.07 0-2.86zM5.41 20L4 18.59l7.72-7.72 1.47 1.35L5.41 20z\"/>\n",
              "  </svg>\n",
              "      </button>\n",
              "      \n",
              "  <style>\n",
              "    .colab-df-container {\n",
              "      display:flex;\n",
              "      flex-wrap:wrap;\n",
              "      gap: 12px;\n",
              "    }\n",
              "\n",
              "    .colab-df-convert {\n",
              "      background-color: #E8F0FE;\n",
              "      border: none;\n",
              "      border-radius: 50%;\n",
              "      cursor: pointer;\n",
              "      display: none;\n",
              "      fill: #1967D2;\n",
              "      height: 32px;\n",
              "      padding: 0 0 0 0;\n",
              "      width: 32px;\n",
              "    }\n",
              "\n",
              "    .colab-df-convert:hover {\n",
              "      background-color: #E2EBFA;\n",
              "      box-shadow: 0px 1px 2px rgba(60, 64, 67, 0.3), 0px 1px 3px 1px rgba(60, 64, 67, 0.15);\n",
              "      fill: #174EA6;\n",
              "    }\n",
              "\n",
              "    [theme=dark] .colab-df-convert {\n",
              "      background-color: #3B4455;\n",
              "      fill: #D2E3FC;\n",
              "    }\n",
              "\n",
              "    [theme=dark] .colab-df-convert:hover {\n",
              "      background-color: #434B5C;\n",
              "      box-shadow: 0px 1px 3px 1px rgba(0, 0, 0, 0.15);\n",
              "      filter: drop-shadow(0px 1px 2px rgba(0, 0, 0, 0.3));\n",
              "      fill: #FFFFFF;\n",
              "    }\n",
              "  </style>\n",
              "\n",
              "      <script>\n",
              "        const buttonEl =\n",
              "          document.querySelector('#df-49f0bd35-ed16-4920-bbf1-0d5955ed3cd8 button.colab-df-convert');\n",
              "        buttonEl.style.display =\n",
              "          google.colab.kernel.accessAllowed ? 'block' : 'none';\n",
              "\n",
              "        async function convertToInteractive(key) {\n",
              "          const element = document.querySelector('#df-49f0bd35-ed16-4920-bbf1-0d5955ed3cd8');\n",
              "          const dataTable =\n",
              "            await google.colab.kernel.invokeFunction('convertToInteractive',\n",
              "                                                     [key], {});\n",
              "          if (!dataTable) return;\n",
              "\n",
              "          const docLinkHtml = 'Like what you see? Visit the ' +\n",
              "            '<a target=\"_blank\" href=https://colab.research.google.com/notebooks/data_table.ipynb>data table notebook</a>'\n",
              "            + ' to learn more about interactive tables.';\n",
              "          element.innerHTML = '';\n",
              "          dataTable['output_type'] = 'display_data';\n",
              "          await google.colab.output.renderOutput(dataTable, element);\n",
              "          const docLink = document.createElement('div');\n",
              "          docLink.innerHTML = docLinkHtml;\n",
              "          element.appendChild(docLink);\n",
              "        }\n",
              "      </script>\n",
              "    </div>\n",
              "  </div>\n",
              "  "
            ]
          },
          "metadata": {},
          "execution_count": 7
        }
      ]
    },
    {
      "cell_type": "code",
      "source": [
        "# melihat missing value \n",
        "df.isnull().sum()"
      ],
      "metadata": {
        "colab": {
          "base_uri": "https://localhost:8080/"
        },
        "id": "uqA9JbOsjW39",
        "outputId": "07a1df98-6964-411e-a611-1cf4d7723161"
      },
      "execution_count": 8,
      "outputs": [
        {
          "output_type": "execute_result",
          "data": {
            "text/plain": [
              "report_date     0\n",
              "load_time       0\n",
              "load_type       0\n",
              "load_weight     0\n",
              "dropoff_site    0\n",
              "dtype: int64"
            ]
          },
          "metadata": {},
          "execution_count": 8
        }
      ]
    },
    {
      "cell_type": "markdown",
      "source": [
        "Dalam hal ini sudah tidak missing value."
      ],
      "metadata": {
        "id": "nZ2zjqEfuzW8"
      }
    },
    {
      "cell_type": "markdown",
      "source": [
        "## Eksplorasi Data"
      ],
      "metadata": {
        "id": "UEsKhED-jf8q"
      }
    },
    {
      "cell_type": "markdown",
      "source": [
        "2. Eksplorasi data sederhana untuk mengetahui dan mengenali dataset."
      ],
      "metadata": {
        "id": "KZae1lu3xf9g"
      }
    },
    {
      "cell_type": "code",
      "source": [
        "# melihat rentang waktu minimal\n",
        "df.report_date.min()"
      ],
      "metadata": {
        "colab": {
          "base_uri": "https://localhost:8080/"
        },
        "id": "G9D8Eu1nj6xX",
        "outputId": "34bebc2d-a1ed-491c-82e4-c969b03d75be"
      },
      "execution_count": 9,
      "outputs": [
        {
          "output_type": "execute_result",
          "data": {
            "text/plain": [
              "Timestamp('2021-01-01 00:00:00')"
            ]
          },
          "metadata": {},
          "execution_count": 9
        }
      ]
    },
    {
      "cell_type": "code",
      "source": [
        "# melihat rentang waktu maksimal\n",
        "df.report_date.max()"
      ],
      "metadata": {
        "colab": {
          "base_uri": "https://localhost:8080/"
        },
        "id": "k-Zl3GTBj_r_",
        "outputId": "2db83649-8099-4114-d025-b7016236d22b"
      },
      "execution_count": 10,
      "outputs": [
        {
          "output_type": "execute_result",
          "data": {
            "text/plain": [
              "Timestamp('2021-07-09 00:00:00')"
            ]
          },
          "metadata": {},
          "execution_count": 10
        }
      ]
    },
    {
      "cell_type": "code",
      "source": [
        "# menghitung rentang waktu\n",
        "rentang_waktu = df['report_date'].max() - df['report_date'].min()\n",
        "rentang_waktu"
      ],
      "metadata": {
        "colab": {
          "base_uri": "https://localhost:8080/"
        },
        "id": "yiWuELo0jdFv",
        "outputId": "cddbcdd5-9603-4173-84e1-d64cc139adc8"
      },
      "execution_count": 11,
      "outputs": [
        {
          "output_type": "execute_result",
          "data": {
            "text/plain": [
              "Timedelta('189 days 00:00:00')"
            ]
          },
          "metadata": {},
          "execution_count": 11
        }
      ]
    },
    {
      "cell_type": "code",
      "source": [
        "# Melihat load sampah yang ada di kota Austin\n",
        "df['load_type'].value_counts()"
      ],
      "metadata": {
        "colab": {
          "base_uri": "https://localhost:8080/"
        },
        "id": "b4NZBEYbkrR2",
        "outputId": "0ad4c249-f680-4aaa-c14c-425ff06fbf63"
      },
      "execution_count": 12,
      "outputs": [
        {
          "output_type": "execute_result",
          "data": {
            "text/plain": [
              "GARBAGE COLLECTIONS          8242\n",
              "RECYCLING - SINGLE STREAM    6760\n",
              "ORGANICS                     5763\n",
              "BULK                         1594\n",
              "BRUSH                        1517\n",
              "SWEEPING                     1390\n",
              "MIXED LITTER                  329\n",
              "TIRES                         175\n",
              "DEAD ANIMAL                   150\n",
              "YARD TRIMMING                 137\n",
              "RECYCLED METAL                 57\n",
              "LITTER                         41\n",
              "CONTAMINATED RECYCLING          1\n",
              "CONTAMINATED ORGANICS           1\n",
              "Name: load_type, dtype: int64"
            ]
          },
          "metadata": {},
          "execution_count": 12
        }
      ]
    },
    {
      "cell_type": "code",
      "source": [
        "# Melihat lokasi dropsite atau pembuangan sampah ada dimana saja\n",
        "df['dropoff_site'].value_counts()"
      ],
      "metadata": {
        "colab": {
          "base_uri": "https://localhost:8080/"
        },
        "id": "7SCM2k79k0u7",
        "outputId": "754499c8-c121-4eb1-f726-3857d4e7e54c"
      },
      "execution_count": 13,
      "outputs": [
        {
          "output_type": "execute_result",
          "data": {
            "text/plain": [
              "TDS LANDFILL             10694\n",
              "ORGANICS BY GOSH          5755\n",
              "BALCONES RECYCLING        3837\n",
              "TDS - MRF                 2948\n",
              "HORNSBY BEND              1655\n",
              "ONION CREEK                813\n",
              "MRF                        168\n",
              "ON ROUTE HIGH DUMP          81\n",
              "PARK CENTER                 75\n",
              "GREAT NORTHERN              70\n",
              "AUSTIN IRON AND METAL       50\n",
              "PARK BEND                    4\n",
              "AUSTIN WOOD RECYCLING        2\n",
              "WILCAB                       1\n",
              "BALCONES WOODS               1\n",
              "STEINER LANDFILL             1\n",
              "WESTFIELD                    1\n",
              "ST. EDWARDS                  1\n",
              "Name: dropoff_site, dtype: int64"
            ]
          },
          "metadata": {},
          "execution_count": 13
        }
      ]
    },
    {
      "cell_type": "markdown",
      "source": [
        "## Central Tendency"
      ],
      "metadata": {
        "id": "H32AnwXwyDHS"
      }
    },
    {
      "cell_type": "markdown",
      "source": [
        "3. Menghitung mean, median, dan modus untuk masing-masing site.\n"
      ],
      "metadata": {
        "id": "FRF04QWulGr_"
      }
    },
    {
      "cell_type": "code",
      "source": [
        "# Menghitung mean, median, modus load_weight untuk dropoff_site\n",
        "formula = df.groupby('dropoff_site')['load_weight'].agg(['mean', 'median', lambda x: x.mode()[0]])\n",
        "\n",
        "# Rename kolom lambda menjadi modus\n",
        "formula = formula.rename(columns={'<lambda_0>' : 'modus'})\n",
        "\n",
        "# Menampilkan hasil\n",
        "print (formula)"
      ],
      "metadata": {
        "colab": {
          "base_uri": "https://localhost:8080/"
        },
        "id": "zThfqXhBlHuQ",
        "outputId": "1153f6a0-fe93-4f51-c53f-8666a1345378"
      },
      "execution_count": 14,
      "outputs": [
        {
          "output_type": "stream",
          "name": "stdout",
          "text": [
            "                               mean   median    modus\n",
            "dropoff_site                                         \n",
            "AUSTIN IRON AND METAL    451.200000    400.0    260.0\n",
            "AUSTIN WOOD RECYCLING   4050.000000   4050.0   2340.0\n",
            "BALCONES RECYCLING      9464.652072   9840.0  11880.0\n",
            "BALCONES WOODS          8460.000000   8460.0   8460.0\n",
            "GREAT NORTHERN         11973.142857  11300.0  11300.0\n",
            "HORNSBY BEND            6637.111782   6400.0   5500.0\n",
            "MRF                     1799.982143   1360.0    960.0\n",
            "ON ROUTE HIGH DUMP     11405.925926  11300.0  11300.0\n",
            "ONION CREEK            11300.000000  11300.0  11300.0\n",
            "ORGANICS BY GOSH       11817.220851  11900.0  11300.0\n",
            "PARK BEND              13385.000000  12330.0   8480.0\n",
            "PARK CENTER            11300.000000  11300.0  11300.0\n",
            "ST. EDWARDS            11300.000000  11300.0  11300.0\n",
            "STEINER LANDFILL         780.000000    780.0    780.0\n",
            "TDS - MRF               9872.550882  10330.0  10360.0\n",
            "TDS LANDFILL           15168.321726  14920.0     20.0\n",
            "WESTFIELD              16020.000000  16020.0  16020.0\n",
            "WILCAB                 11300.000000  11300.0  11300.0\n"
          ]
        }
      ]
    },
    {
      "cell_type": "markdown",
      "source": [
        "Informasi yang di dapatkan setelah di hitung central tendecy adalah pemerintah perlu mempertimbangkan dalam mengambil keputusan terkait pengelolaan sampah di kota mereka agar tidak terjadinya overload."
      ],
      "metadata": {
        "id": "eSoxvOFZygVu"
      }
    },
    {
      "cell_type": "markdown",
      "source": [
        "## Site yang Menarik"
      ],
      "metadata": {
        "id": "bfZ3y8tPnCFa"
      }
    },
    {
      "cell_type": "markdown",
      "source": [
        "4. Memilih site yang paling menarik."
      ],
      "metadata": {
        "id": "IH0HXhHgy0yw"
      }
    },
    {
      "cell_type": "markdown",
      "source": [
        "Site yang saya aambil adalah MRF dikarenakan dalam hal dropoff site tersebut MRF memiliki median dengan ukuran ke-3."
      ],
      "metadata": {
        "id": "cBYXwMCcn5ri"
      }
    },
    {
      "cell_type": "code",
      "source": [
        "# Memilih data 'dropoff_site' dengan kategori MRF menggunanakan slicing\n",
        "\n",
        "df_MRF = df.loc[df['dropoff_site'] == 'MRF']\n",
        "df_MRF"
      ],
      "metadata": {
        "colab": {
          "base_uri": "https://localhost:8080/",
          "height": 424
        },
        "id": "H53CORvfnA4Q",
        "outputId": "c64e43a0-a814-44ef-b49d-d30e3a9268d1"
      },
      "execution_count": 15,
      "outputs": [
        {
          "output_type": "execute_result",
          "data": {
            "text/plain": [
              "      report_date                load_time load_type  load_weight dropoff_site\n",
              "4      2021-01-02  2021-01-02 09:24:00 UTC     TIRES       1640.0          MRF\n",
              "5      2021-01-02  2021-01-02 11:47:00 UTC     TIRES        940.0          MRF\n",
              "564    2021-01-06  2021-01-06 12:49:00 UTC     TIRES         40.0          MRF\n",
              "565    2021-01-06  2021-01-06 03:30:00 UTC     TIRES        100.0          MRF\n",
              "749    2021-01-07  2021-01-07 12:17:00 UTC     TIRES       1440.0          MRF\n",
              "...           ...                      ...       ...          ...          ...\n",
              "25862  2021-07-07  2021-07-07 11:40:00 UTC     TIRES        340.0          MRF\n",
              "26008  2021-07-08  2021-07-08 12:00:00 UTC     TIRES       2260.0          MRF\n",
              "26009  2021-07-08  2021-07-08 11:00:00 UTC     TIRES       1260.0          MRF\n",
              "26010  2021-07-08  2021-07-08 03:00:00 UTC     TIRES        800.0          MRF\n",
              "26011  2021-07-08  2021-07-09 12:00:00 UTC     TIRES        560.0          MRF\n",
              "\n",
              "[168 rows x 5 columns]"
            ],
            "text/html": [
              "\n",
              "  <div id=\"df-3818dae7-62aa-46c7-a6c8-eaf8c4de905b\">\n",
              "    <div class=\"colab-df-container\">\n",
              "      <div>\n",
              "<style scoped>\n",
              "    .dataframe tbody tr th:only-of-type {\n",
              "        vertical-align: middle;\n",
              "    }\n",
              "\n",
              "    .dataframe tbody tr th {\n",
              "        vertical-align: top;\n",
              "    }\n",
              "\n",
              "    .dataframe thead th {\n",
              "        text-align: right;\n",
              "    }\n",
              "</style>\n",
              "<table border=\"1\" class=\"dataframe\">\n",
              "  <thead>\n",
              "    <tr style=\"text-align: right;\">\n",
              "      <th></th>\n",
              "      <th>report_date</th>\n",
              "      <th>load_time</th>\n",
              "      <th>load_type</th>\n",
              "      <th>load_weight</th>\n",
              "      <th>dropoff_site</th>\n",
              "    </tr>\n",
              "  </thead>\n",
              "  <tbody>\n",
              "    <tr>\n",
              "      <th>4</th>\n",
              "      <td>2021-01-02</td>\n",
              "      <td>2021-01-02 09:24:00 UTC</td>\n",
              "      <td>TIRES</td>\n",
              "      <td>1640.0</td>\n",
              "      <td>MRF</td>\n",
              "    </tr>\n",
              "    <tr>\n",
              "      <th>5</th>\n",
              "      <td>2021-01-02</td>\n",
              "      <td>2021-01-02 11:47:00 UTC</td>\n",
              "      <td>TIRES</td>\n",
              "      <td>940.0</td>\n",
              "      <td>MRF</td>\n",
              "    </tr>\n",
              "    <tr>\n",
              "      <th>564</th>\n",
              "      <td>2021-01-06</td>\n",
              "      <td>2021-01-06 12:49:00 UTC</td>\n",
              "      <td>TIRES</td>\n",
              "      <td>40.0</td>\n",
              "      <td>MRF</td>\n",
              "    </tr>\n",
              "    <tr>\n",
              "      <th>565</th>\n",
              "      <td>2021-01-06</td>\n",
              "      <td>2021-01-06 03:30:00 UTC</td>\n",
              "      <td>TIRES</td>\n",
              "      <td>100.0</td>\n",
              "      <td>MRF</td>\n",
              "    </tr>\n",
              "    <tr>\n",
              "      <th>749</th>\n",
              "      <td>2021-01-07</td>\n",
              "      <td>2021-01-07 12:17:00 UTC</td>\n",
              "      <td>TIRES</td>\n",
              "      <td>1440.0</td>\n",
              "      <td>MRF</td>\n",
              "    </tr>\n",
              "    <tr>\n",
              "      <th>...</th>\n",
              "      <td>...</td>\n",
              "      <td>...</td>\n",
              "      <td>...</td>\n",
              "      <td>...</td>\n",
              "      <td>...</td>\n",
              "    </tr>\n",
              "    <tr>\n",
              "      <th>25862</th>\n",
              "      <td>2021-07-07</td>\n",
              "      <td>2021-07-07 11:40:00 UTC</td>\n",
              "      <td>TIRES</td>\n",
              "      <td>340.0</td>\n",
              "      <td>MRF</td>\n",
              "    </tr>\n",
              "    <tr>\n",
              "      <th>26008</th>\n",
              "      <td>2021-07-08</td>\n",
              "      <td>2021-07-08 12:00:00 UTC</td>\n",
              "      <td>TIRES</td>\n",
              "      <td>2260.0</td>\n",
              "      <td>MRF</td>\n",
              "    </tr>\n",
              "    <tr>\n",
              "      <th>26009</th>\n",
              "      <td>2021-07-08</td>\n",
              "      <td>2021-07-08 11:00:00 UTC</td>\n",
              "      <td>TIRES</td>\n",
              "      <td>1260.0</td>\n",
              "      <td>MRF</td>\n",
              "    </tr>\n",
              "    <tr>\n",
              "      <th>26010</th>\n",
              "      <td>2021-07-08</td>\n",
              "      <td>2021-07-08 03:00:00 UTC</td>\n",
              "      <td>TIRES</td>\n",
              "      <td>800.0</td>\n",
              "      <td>MRF</td>\n",
              "    </tr>\n",
              "    <tr>\n",
              "      <th>26011</th>\n",
              "      <td>2021-07-08</td>\n",
              "      <td>2021-07-09 12:00:00 UTC</td>\n",
              "      <td>TIRES</td>\n",
              "      <td>560.0</td>\n",
              "      <td>MRF</td>\n",
              "    </tr>\n",
              "  </tbody>\n",
              "</table>\n",
              "<p>168 rows × 5 columns</p>\n",
              "</div>\n",
              "      <button class=\"colab-df-convert\" onclick=\"convertToInteractive('df-3818dae7-62aa-46c7-a6c8-eaf8c4de905b')\"\n",
              "              title=\"Convert this dataframe to an interactive table.\"\n",
              "              style=\"display:none;\">\n",
              "        \n",
              "  <svg xmlns=\"http://www.w3.org/2000/svg\" height=\"24px\"viewBox=\"0 0 24 24\"\n",
              "       width=\"24px\">\n",
              "    <path d=\"M0 0h24v24H0V0z\" fill=\"none\"/>\n",
              "    <path d=\"M18.56 5.44l.94 2.06.94-2.06 2.06-.94-2.06-.94-.94-2.06-.94 2.06-2.06.94zm-11 1L8.5 8.5l.94-2.06 2.06-.94-2.06-.94L8.5 2.5l-.94 2.06-2.06.94zm10 10l.94 2.06.94-2.06 2.06-.94-2.06-.94-.94-2.06-.94 2.06-2.06.94z\"/><path d=\"M17.41 7.96l-1.37-1.37c-.4-.4-.92-.59-1.43-.59-.52 0-1.04.2-1.43.59L10.3 9.45l-7.72 7.72c-.78.78-.78 2.05 0 2.83L4 21.41c.39.39.9.59 1.41.59.51 0 1.02-.2 1.41-.59l7.78-7.78 2.81-2.81c.8-.78.8-2.07 0-2.86zM5.41 20L4 18.59l7.72-7.72 1.47 1.35L5.41 20z\"/>\n",
              "  </svg>\n",
              "      </button>\n",
              "      \n",
              "  <style>\n",
              "    .colab-df-container {\n",
              "      display:flex;\n",
              "      flex-wrap:wrap;\n",
              "      gap: 12px;\n",
              "    }\n",
              "\n",
              "    .colab-df-convert {\n",
              "      background-color: #E8F0FE;\n",
              "      border: none;\n",
              "      border-radius: 50%;\n",
              "      cursor: pointer;\n",
              "      display: none;\n",
              "      fill: #1967D2;\n",
              "      height: 32px;\n",
              "      padding: 0 0 0 0;\n",
              "      width: 32px;\n",
              "    }\n",
              "\n",
              "    .colab-df-convert:hover {\n",
              "      background-color: #E2EBFA;\n",
              "      box-shadow: 0px 1px 2px rgba(60, 64, 67, 0.3), 0px 1px 3px 1px rgba(60, 64, 67, 0.15);\n",
              "      fill: #174EA6;\n",
              "    }\n",
              "\n",
              "    [theme=dark] .colab-df-convert {\n",
              "      background-color: #3B4455;\n",
              "      fill: #D2E3FC;\n",
              "    }\n",
              "\n",
              "    [theme=dark] .colab-df-convert:hover {\n",
              "      background-color: #434B5C;\n",
              "      box-shadow: 0px 1px 3px 1px rgba(0, 0, 0, 0.15);\n",
              "      filter: drop-shadow(0px 1px 2px rgba(0, 0, 0, 0.3));\n",
              "      fill: #FFFFFF;\n",
              "    }\n",
              "  </style>\n",
              "\n",
              "      <script>\n",
              "        const buttonEl =\n",
              "          document.querySelector('#df-3818dae7-62aa-46c7-a6c8-eaf8c4de905b button.colab-df-convert');\n",
              "        buttonEl.style.display =\n",
              "          google.colab.kernel.accessAllowed ? 'block' : 'none';\n",
              "\n",
              "        async function convertToInteractive(key) {\n",
              "          const element = document.querySelector('#df-3818dae7-62aa-46c7-a6c8-eaf8c4de905b');\n",
              "          const dataTable =\n",
              "            await google.colab.kernel.invokeFunction('convertToInteractive',\n",
              "                                                     [key], {});\n",
              "          if (!dataTable) return;\n",
              "\n",
              "          const docLinkHtml = 'Like what you see? Visit the ' +\n",
              "            '<a target=\"_blank\" href=https://colab.research.google.com/notebooks/data_table.ipynb>data table notebook</a>'\n",
              "            + ' to learn more about interactive tables.';\n",
              "          element.innerHTML = '';\n",
              "          dataTable['output_type'] = 'display_data';\n",
              "          await google.colab.output.renderOutput(dataTable, element);\n",
              "          const docLink = document.createElement('div');\n",
              "          docLink.innerHTML = docLinkHtml;\n",
              "          element.appendChild(docLink);\n",
              "        }\n",
              "      </script>\n",
              "    </div>\n",
              "  </div>\n",
              "  "
            ]
          },
          "metadata": {},
          "execution_count": 15
        }
      ]
    },
    {
      "cell_type": "markdown",
      "source": [
        "## Outliers"
      ],
      "metadata": {
        "id": "KnTkOx7xoooT"
      }
    },
    {
      "cell_type": "markdown",
      "source": [
        "5. Cek ada atau tidak adanya outliers."
      ],
      "metadata": {
        "id": "rVARXwAvy-rA"
      }
    },
    {
      "cell_type": "code",
      "source": [
        "# column.tolist : mengubah kolom dataframe tertentu menjadi daftar\n",
        "df_col = df_MRF.columns.tolist()\n",
        "df_col"
      ],
      "metadata": {
        "colab": {
          "base_uri": "https://localhost:8080/"
        },
        "id": "uNkNfLNRopzx",
        "outputId": "b3f6669e-a270-4ce8-c57c-07f2215a68db"
      },
      "execution_count": 16,
      "outputs": [
        {
          "output_type": "execute_result",
          "data": {
            "text/plain": [
              "['report_date', 'load_time', 'load_type', 'load_weight', 'dropoff_site']"
            ]
          },
          "metadata": {},
          "execution_count": 16
        }
      ]
    },
    {
      "cell_type": "code",
      "source": [
        "# handling outlier sesuai dropoff site\n",
        "def plot_dist(df_MRF, col):\n",
        "    fig, axes = plt.subplots(ncols = 2, figsize = (10, 5))\n",
        "    \n",
        "    # histogram\n",
        "    sns.histplot(df_MRF[col],ax = axes[0], bins=30)\n",
        "    axes[0].set_title(f\"Histogram '{col}'\")\n",
        "    axes[0].axvline(df_MRF[col].mean(), color = 'red', linestyle = 'dashed', label = 'mean')\n",
        "    axes[0].axvline(df_MRF[col].median(), color = 'green', linestyle = 'dashed', label = 'median')\n",
        "    axes[0].legend()\n",
        "    \n",
        "    # boxplot\n",
        "    sns.boxplot(y=df_MRF[col], ax =  axes[1])\n",
        "    axes[1].set_title(f\"Boxplot '{col}'\")\n",
        "    \n",
        "    plt.show()\n",
        "    \n",
        "    # skewness\n",
        "    print(df_MRF[col].name + ' Kurtosis: ' + str(df_MRF[col].kurt()))\n",
        "    print(df_MRF[col].name + ' Skewness: ' + str(df_MRF[col].skew()))\n",
        "    if -0.5 <= df_MRF[col].skew() <= 0.5:\n",
        "        print(\"Columns '{}' normal distribution\".format(col))\n",
        "    elif df_MRF[col].skew() > 0.5:\n",
        "        print(\"Columns '{}' right skewed\".format(col))\n",
        "    elif df_MRF[col].skew() < -0.5:\n",
        "        print(\"Columns '{}' left skewed\".format(col))"
      ],
      "metadata": {
        "id": "oI_p9z9So1y8"
      },
      "execution_count": 17,
      "outputs": []
    },
    {
      "cell_type": "code",
      "source": [
        "# Visualisasi data\n",
        "plot_dist(df_MRF, df_col[3])"
      ],
      "metadata": {
        "colab": {
          "base_uri": "https://localhost:8080/",
          "height": 539
        },
        "id": "qVkS5HHPpW-K",
        "outputId": "cd0b7291-a261-4fe3-9fab-533101303a8c"
      },
      "execution_count": 18,
      "outputs": [
        {
          "output_type": "display_data",
          "data": {
            "text/plain": [
              "<Figure size 1000x500 with 2 Axes>"
            ],
            "image/png": "[encoded data removed]"
          },
          "metadata": {}
        },
        {
          "output_type": "stream",
          "name": "stdout",
          "text": [
            "load_weight Kurtosis: 26.60041525232097\n",
            "load_weight Skewness: 4.77255984020812\n",
            "Columns 'load_weight' right skewed\n"
          ]
        }
      ]
    },
    {
      "cell_type": "markdown",
      "source": [
        "Berdasarkan hasil pengecekan skewness, data tidak berdistribusi normal dikarenakan nilai skewness mecapai 3.8749. Dalam skewness, jika nilai kurang dari -1 atau lebih besar dari 1, datanya sangat miring. Dan dalam perhitunganpun columns load_weight right skewed.\n",
        "\n",
        "Dalam oxplot menunjukkan adanya outliers atau data yang terletak jauh dari data lain."
      ],
      "metadata": {
        "id": "r2YzsDfO2MTl"
      }
    },
    {
      "cell_type": "markdown",
      "source": [
        "Handling outliers "
      ],
      "metadata": {
        "id": "FpXNbJw-rMK3"
      }
    },
    {
      "cell_type": "code",
      "source": [
        "# Menghitung Q1 (25), Q2 (50), dan Q3 (75)\n",
        "quartile = np.percentile(df_MRF['load_weight'], [25, 50, 75])\n",
        "quartile"
      ],
      "metadata": {
        "colab": {
          "base_uri": "https://localhost:8080/"
        },
        "id": "Klb7wsLnrP0n",
        "outputId": "31cff888-2502-442d-e1f9-ac631b4a818a"
      },
      "execution_count": 19,
      "outputs": [
        {
          "output_type": "execute_result",
          "data": {
            "text/plain": [
              "array([ 740., 1360., 2180.])"
            ]
          },
          "metadata": {},
          "execution_count": 19
        }
      ]
    },
    {
      "cell_type": "code",
      "source": [
        "# Menghitung Q1\n",
        "Q1 = df_MRF ['load_weight'].quantile(0.25)\n",
        "print ('Q1 adalah : ', Q1)"
      ],
      "metadata": {
        "colab": {
          "base_uri": "https://localhost:8080/"
        },
        "id": "BaRHu24Rxhpu",
        "outputId": "006ca9b3-bcbd-4269-dcdd-df1f20a9e0e7"
      },
      "execution_count": 20,
      "outputs": [
        {
          "output_type": "stream",
          "name": "stdout",
          "text": [
            "Q1 adalah :  740.0\n"
          ]
        }
      ]
    },
    {
      "cell_type": "code",
      "source": [
        "# Menghitung Q2\n",
        "Q2 = df_MRF ['load_weight'].quantile(0.50)\n",
        "print ('Q2 adalah : ', Q2)"
      ],
      "metadata": {
        "colab": {
          "base_uri": "https://localhost:8080/"
        },
        "id": "N9_AUv_Rx74P",
        "outputId": "f0b90af6-399b-4b73-fd5c-1b73475f99a4"
      },
      "execution_count": 21,
      "outputs": [
        {
          "output_type": "stream",
          "name": "stdout",
          "text": [
            "Q2 adalah :  1360.0\n"
          ]
        }
      ]
    },
    {
      "cell_type": "code",
      "source": [
        "# Menghitung Q3\n",
        "Q3 = df_MRF ['load_weight'].quantile(0.75)\n",
        "print('Q3 adalah : ', Q3)"
      ],
      "metadata": {
        "colab": {
          "base_uri": "https://localhost:8080/"
        },
        "id": "yCJDhlBoyDDX",
        "outputId": "9184edca-e0d0-45aa-b175-7f0a0a530af1"
      },
      "execution_count": 22,
      "outputs": [
        {
          "output_type": "stream",
          "name": "stdout",
          "text": [
            "Q3 adalah :  2180.0\n"
          ]
        }
      ]
    },
    {
      "cell_type": "code",
      "source": [
        "# Menghitung interquartile range (IQR)\n",
        "IQR = Q3 - Q1\n",
        "print('IQR adalah', IQR)"
      ],
      "metadata": {
        "colab": {
          "base_uri": "https://localhost:8080/"
        },
        "id": "wHIBK42ayelS",
        "outputId": "84c4a0b3-4625-4060-d8f7-9299baa20081"
      },
      "execution_count": 23,
      "outputs": [
        {
          "output_type": "stream",
          "name": "stdout",
          "text": [
            "IQR adalah 1440.0\n"
          ]
        }
      ]
    },
    {
      "cell_type": "code",
      "source": [
        "# Menghitung upper\n",
        "Upper = Q3 + (3 * IQR)\n",
        "print ('Upper adalah', Upper)"
      ],
      "metadata": {
        "colab": {
          "base_uri": "https://localhost:8080/"
        },
        "id": "O6upLuzJyY_Q",
        "outputId": "3309235f-ccfe-4196-9dd5-af1b6adc76c5"
      },
      "execution_count": 24,
      "outputs": [
        {
          "output_type": "stream",
          "name": "stdout",
          "text": [
            "Upper adalah 6500.0\n"
          ]
        }
      ]
    },
    {
      "cell_type": "code",
      "source": [
        "# Menghitung lower\n",
        "Lower = Q1 - (3*IQR)\n",
        "print ('Lower adalah', Lower)"
      ],
      "metadata": {
        "colab": {
          "base_uri": "https://localhost:8080/"
        },
        "id": "pSOwl7VoytQx",
        "outputId": "4ac96cc3-252a-43bf-dc32-44b2ecae9206"
      },
      "execution_count": 25,
      "outputs": [
        {
          "output_type": "stream",
          "name": "stdout",
          "text": [
            "Lower adalah -3580.0\n"
          ]
        }
      ]
    },
    {
      "cell_type": "code",
      "source": [
        "# Mencari berapa banyak outliers\n",
        "df_MRF[(df_MRF['load_weight'] < Lower) | (df_MRF['load_weight'] > Upper)].count()"
      ],
      "metadata": {
        "colab": {
          "base_uri": "https://localhost:8080/"
        },
        "id": "mwTBRga2zHlO",
        "outputId": "ee58a12d-0368-475c-df01-730729ed54d1"
      },
      "execution_count": 26,
      "outputs": [
        {
          "output_type": "execute_result",
          "data": {
            "text/plain": [
              "report_date     4\n",
              "load_time       4\n",
              "load_type       4\n",
              "load_weight     4\n",
              "dropoff_site    4\n",
              "dtype: int64"
            ]
          },
          "metadata": {},
          "execution_count": 26
        }
      ]
    },
    {
      "cell_type": "markdown",
      "source": [
        "Jumlah outliers tersebut ada 4."
      ],
      "metadata": {
        "id": "a0ps_kBG3x67"
      }
    },
    {
      "cell_type": "code",
      "source": [
        "# Return series yang berisi unique value dari df_MRF\n",
        "df_MRF.value_counts()"
      ],
      "metadata": {
        "colab": {
          "base_uri": "https://localhost:8080/"
        },
        "id": "yi_a-aM5wrIT",
        "outputId": "1d013a3c-6539-495e-d0f5-bb5ef4c3e298"
      },
      "execution_count": 27,
      "outputs": [
        {
          "output_type": "execute_result",
          "data": {
            "text/plain": [
              "report_date  load_time                load_type  load_weight  dropoff_site\n",
              "2021-01-02   2021-01-02 09:24:00 UTC  TIRES      1640.0       MRF             1\n",
              "2021-05-26   2021-05-26 11:55:00 UTC  TIRES      2700.0       MRF             1\n",
              "2021-05-20   2021-05-20 03:45:00 UTC  TIRES      2620.0       MRF             1\n",
              "2021-05-24   2021-05-24 03:15:00 UTC  TIRES      1580.0       MRF             1\n",
              "             2021-05-24 11:00:00 UTC  TIRES      1479.0       MRF             1\n",
              "                                                                             ..\n",
              "2021-03-20   2021-03-20 08:35:00 UTC  TIRES      520.0        MRF             1\n",
              "             2021-03-20 12:12:00 UTC  TIRES      3020.0       MRF             1\n",
              "2021-03-24   2021-03-24 09:10:00 UTC  TIRES      1700.0       MRF             1\n",
              "2021-04-05   2021-04-05 12:00:00 UTC  TIRES      360.0        MRF             1\n",
              "2021-07-08   2021-07-09 12:00:00 UTC  TIRES      560.0        MRF             1\n",
              "Length: 168, dtype: int64"
            ]
          },
          "metadata": {},
          "execution_count": 27
        }
      ]
    },
    {
      "cell_type": "code",
      "source": [
        "# Persentase dari jumlah outliers\n",
        "df_MRF_outliers = df_MRF [(df_MRF['load_weight'] < Lower) | (df_MRF['load_weight'] > Upper)]\n",
        "df_MRF_outliers['load_weight'].count() / df_MRF['load_weight'].count() * 100"
      ],
      "metadata": {
        "colab": {
          "base_uri": "https://localhost:8080/"
        },
        "id": "vXWTOBXHwleW",
        "outputId": "85e0a790-51c1-4cd3-e400-134b060bc3b2"
      },
      "execution_count": 28,
      "outputs": [
        {
          "output_type": "execute_result",
          "data": {
            "text/plain": [
              "2.380952380952381"
            ]
          },
          "metadata": {},
          "execution_count": 28
        }
      ]
    },
    {
      "cell_type": "code",
      "source": [
        "# Trimming Outliers atau menghapus data outliers\n",
        "\n",
        "no_outliers = df_MRF[(df_MRF['load_weight'] >= Lower)&(df_MRF['load_weight'] <= Upper)]\n",
        "no_outliers"
      ],
      "metadata": {
        "colab": {
          "base_uri": "https://localhost:8080/",
          "height": 424
        },
        "id": "zuM5E_bksaB-",
        "outputId": "fdaa96a3-932b-4690-8a4f-8bd2b37f479d"
      },
      "execution_count": 29,
      "outputs": [
        {
          "output_type": "execute_result",
          "data": {
            "text/plain": [
              "      report_date                load_time load_type  load_weight dropoff_site\n",
              "4      2021-01-02  2021-01-02 09:24:00 UTC     TIRES       1640.0          MRF\n",
              "5      2021-01-02  2021-01-02 11:47:00 UTC     TIRES        940.0          MRF\n",
              "564    2021-01-06  2021-01-06 12:49:00 UTC     TIRES         40.0          MRF\n",
              "565    2021-01-06  2021-01-06 03:30:00 UTC     TIRES        100.0          MRF\n",
              "749    2021-01-07  2021-01-07 12:17:00 UTC     TIRES       1440.0          MRF\n",
              "...           ...                      ...       ...          ...          ...\n",
              "25862  2021-07-07  2021-07-07 11:40:00 UTC     TIRES        340.0          MRF\n",
              "26008  2021-07-08  2021-07-08 12:00:00 UTC     TIRES       2260.0          MRF\n",
              "26009  2021-07-08  2021-07-08 11:00:00 UTC     TIRES       1260.0          MRF\n",
              "26010  2021-07-08  2021-07-08 03:00:00 UTC     TIRES        800.0          MRF\n",
              "26011  2021-07-08  2021-07-09 12:00:00 UTC     TIRES        560.0          MRF\n",
              "\n",
              "[164 rows x 5 columns]"
            ],
            "text/html": [
              "\n",
              "  <div id=\"df-48ff1f98-aa76-4ecd-8ad7-59e3977be31a\">\n",
              "    <div class=\"colab-df-container\">\n",
              "      <div>\n",
              "<style scoped>\n",
              "    .dataframe tbody tr th:only-of-type {\n",
              "        vertical-align: middle;\n",
              "    }\n",
              "\n",
              "    .dataframe tbody tr th {\n",
              "        vertical-align: top;\n",
              "    }\n",
              "\n",
              "    .dataframe thead th {\n",
              "        text-align: right;\n",
              "    }\n",
              "</style>\n",
              "<table border=\"1\" class=\"dataframe\">\n",
              "  <thead>\n",
              "    <tr style=\"text-align: right;\">\n",
              "      <th></th>\n",
              "      <th>report_date</th>\n",
              "      <th>load_time</th>\n",
              "      <th>load_type</th>\n",
              "      <th>load_weight</th>\n",
              "      <th>dropoff_site</th>\n",
              "    </tr>\n",
              "  </thead>\n",
              "  <tbody>\n",
              "    <tr>\n",
              "      <th>4</th>\n",
              "      <td>2021-01-02</td>\n",
              "      <td>2021-01-02 09:24:00 UTC</td>\n",
              "      <td>TIRES</td>\n",
              "      <td>1640.0</td>\n",
              "      <td>MRF</td>\n",
              "    </tr>\n",
              "    <tr>\n",
              "      <th>5</th>\n",
              "      <td>2021-01-02</td>\n",
              "      <td>2021-01-02 11:47:00 UTC</td>\n",
              "      <td>TIRES</td>\n",
              "      <td>940.0</td>\n",
              "      <td>MRF</td>\n",
              "    </tr>\n",
              "    <tr>\n",
              "      <th>564</th>\n",
              "      <td>2021-01-06</td>\n",
              "      <td>2021-01-06 12:49:00 UTC</td>\n",
              "      <td>TIRES</td>\n",
              "      <td>40.0</td>\n",
              "      <td>MRF</td>\n",
              "    </tr>\n",
              "    <tr>\n",
              "      <th>565</th>\n",
              "      <td>2021-01-06</td>\n",
              "      <td>2021-01-06 03:30:00 UTC</td>\n",
              "      <td>TIRES</td>\n",
              "      <td>100.0</td>\n",
              "      <td>MRF</td>\n",
              "    </tr>\n",
              "    <tr>\n",
              "      <th>749</th>\n",
              "      <td>2021-01-07</td>\n",
              "      <td>2021-01-07 12:17:00 UTC</td>\n",
              "      <td>TIRES</td>\n",
              "      <td>1440.0</td>\n",
              "      <td>MRF</td>\n",
              "    </tr>\n",
              "    <tr>\n",
              "      <th>...</th>\n",
              "      <td>...</td>\n",
              "      <td>...</td>\n",
              "      <td>...</td>\n",
              "      <td>...</td>\n",
              "      <td>...</td>\n",
              "    </tr>\n",
              "    <tr>\n",
              "      <th>25862</th>\n",
              "      <td>2021-07-07</td>\n",
              "      <td>2021-07-07 11:40:00 UTC</td>\n",
              "      <td>TIRES</td>\n",
              "      <td>340.0</td>\n",
              "      <td>MRF</td>\n",
              "    </tr>\n",
              "    <tr>\n",
              "      <th>26008</th>\n",
              "      <td>2021-07-08</td>\n",
              "      <td>2021-07-08 12:00:00 UTC</td>\n",
              "      <td>TIRES</td>\n",
              "      <td>2260.0</td>\n",
              "      <td>MRF</td>\n",
              "    </tr>\n",
              "    <tr>\n",
              "      <th>26009</th>\n",
              "      <td>2021-07-08</td>\n",
              "      <td>2021-07-08 11:00:00 UTC</td>\n",
              "      <td>TIRES</td>\n",
              "      <td>1260.0</td>\n",
              "      <td>MRF</td>\n",
              "    </tr>\n",
              "    <tr>\n",
              "      <th>26010</th>\n",
              "      <td>2021-07-08</td>\n",
              "      <td>2021-07-08 03:00:00 UTC</td>\n",
              "      <td>TIRES</td>\n",
              "      <td>800.0</td>\n",
              "      <td>MRF</td>\n",
              "    </tr>\n",
              "    <tr>\n",
              "      <th>26011</th>\n",
              "      <td>2021-07-08</td>\n",
              "      <td>2021-07-09 12:00:00 UTC</td>\n",
              "      <td>TIRES</td>\n",
              "      <td>560.0</td>\n",
              "      <td>MRF</td>\n",
              "    </tr>\n",
              "  </tbody>\n",
              "</table>\n",
              "<p>164 rows × 5 columns</p>\n",
              "</div>\n",
              "      <button class=\"colab-df-convert\" onclick=\"convertToInteractive('df-48ff1f98-aa76-4ecd-8ad7-59e3977be31a')\"\n",
              "              title=\"Convert this dataframe to an interactive table.\"\n",
              "              style=\"display:none;\">\n",
              "        \n",
              "  <svg xmlns=\"http://www.w3.org/2000/svg\" height=\"24px\"viewBox=\"0 0 24 24\"\n",
              "       width=\"24px\">\n",
              "    <path d=\"M0 0h24v24H0V0z\" fill=\"none\"/>\n",
              "    <path d=\"M18.56 5.44l.94 2.06.94-2.06 2.06-.94-2.06-.94-.94-2.06-.94 2.06-2.06.94zm-11 1L8.5 8.5l.94-2.06 2.06-.94-2.06-.94L8.5 2.5l-.94 2.06-2.06.94zm10 10l.94 2.06.94-2.06 2.06-.94-2.06-.94-.94-2.06-.94 2.06-2.06.94z\"/><path d=\"M17.41 7.96l-1.37-1.37c-.4-.4-.92-.59-1.43-.59-.52 0-1.04.2-1.43.59L10.3 9.45l-7.72 7.72c-.78.78-.78 2.05 0 2.83L4 21.41c.39.39.9.59 1.41.59.51 0 1.02-.2 1.41-.59l7.78-7.78 2.81-2.81c.8-.78.8-2.07 0-2.86zM5.41 20L4 18.59l7.72-7.72 1.47 1.35L5.41 20z\"/>\n",
              "  </svg>\n",
              "      </button>\n",
              "      \n",
              "  <style>\n",
              "    .colab-df-container {\n",
              "      display:flex;\n",
              "      flex-wrap:wrap;\n",
              "      gap: 12px;\n",
              "    }\n",
              "\n",
              "    .colab-df-convert {\n",
              "      background-color: #E8F0FE;\n",
              "      border: none;\n",
              "      border-radius: 50%;\n",
              "      cursor: pointer;\n",
              "      display: none;\n",
              "      fill: #1967D2;\n",
              "      height: 32px;\n",
              "      padding: 0 0 0 0;\n",
              "      width: 32px;\n",
              "    }\n",
              "\n",
              "    .colab-df-convert:hover {\n",
              "      background-color: #E2EBFA;\n",
              "      box-shadow: 0px 1px 2px rgba(60, 64, 67, 0.3), 0px 1px 3px 1px rgba(60, 64, 67, 0.15);\n",
              "      fill: #174EA6;\n",
              "    }\n",
              "\n",
              "    [theme=dark] .colab-df-convert {\n",
              "      background-color: #3B4455;\n",
              "      fill: #D2E3FC;\n",
              "    }\n",
              "\n",
              "    [theme=dark] .colab-df-convert:hover {\n",
              "      background-color: #434B5C;\n",
              "      box-shadow: 0px 1px 3px 1px rgba(0, 0, 0, 0.15);\n",
              "      filter: drop-shadow(0px 1px 2px rgba(0, 0, 0, 0.3));\n",
              "      fill: #FFFFFF;\n",
              "    }\n",
              "  </style>\n",
              "\n",
              "      <script>\n",
              "        const buttonEl =\n",
              "          document.querySelector('#df-48ff1f98-aa76-4ecd-8ad7-59e3977be31a button.colab-df-convert');\n",
              "        buttonEl.style.display =\n",
              "          google.colab.kernel.accessAllowed ? 'block' : 'none';\n",
              "\n",
              "        async function convertToInteractive(key) {\n",
              "          const element = document.querySelector('#df-48ff1f98-aa76-4ecd-8ad7-59e3977be31a');\n",
              "          const dataTable =\n",
              "            await google.colab.kernel.invokeFunction('convertToInteractive',\n",
              "                                                     [key], {});\n",
              "          if (!dataTable) return;\n",
              "\n",
              "          const docLinkHtml = 'Like what you see? Visit the ' +\n",
              "            '<a target=\"_blank\" href=https://colab.research.google.com/notebooks/data_table.ipynb>data table notebook</a>'\n",
              "            + ' to learn more about interactive tables.';\n",
              "          element.innerHTML = '';\n",
              "          dataTable['output_type'] = 'display_data';\n",
              "          await google.colab.output.renderOutput(dataTable, element);\n",
              "          const docLink = document.createElement('div');\n",
              "          docLink.innerHTML = docLinkHtml;\n",
              "          element.appendChild(docLink);\n",
              "        }\n",
              "      </script>\n",
              "    </div>\n",
              "  </div>\n",
              "  "
            ]
          },
          "metadata": {},
          "execution_count": 29
        }
      ]
    },
    {
      "cell_type": "code",
      "source": [
        "# Membandingkan central tendency data yang belum dan sudah dikeluarkan outliernya.\n",
        "\n",
        "# Central tendency pada dataframe yang belum dibersihkan dari outlier\n",
        "mean_with_outliers = df_MRF['load_weight'].mean()\n",
        "median_with_outliers = df_MRF['load_weight'].median()\n",
        "mode_with_outliers = df_MRF['load_weight'].mode()\n",
        "\n",
        "# Central tendency pada dataframe yang sudah dibersihkan dari outlier\n",
        "mean_without_outliers = no_outliers['load_weight'].mean()\n",
        "median_without_outliers = no_outliers['load_weight'].median()\n",
        "mode_without_outliers = no_outliers['load_weight'].mode() \n",
        "\n",
        "# Perbandingan Central Tendency\n",
        "print('Mean with outliers : ', mean_with_outliers)\n",
        "print('Mean without outliers : ', mean_without_outliers)\n",
        "print('Median with outliers : ', median_with_outliers)\n",
        "print('Median without outliers : ', median_without_outliers)\n",
        "print('Mode with outliers : ', mode_with_outliers)\n",
        "print('Mode without outliers : ', mode_without_outliers)"
      ],
      "metadata": {
        "colab": {
          "base_uri": "https://localhost:8080/"
        },
        "id": "WqkB_olV1E39",
        "outputId": "4d7b0597-2de1-457a-d85b-9ac7f5ead95f"
      },
      "execution_count": 30,
      "outputs": [
        {
          "output_type": "stream",
          "name": "stdout",
          "text": [
            "Mean with outliers :  1799.982142857143\n",
            "Mean without outliers :  1485.3475609756097\n",
            "Median with outliers :  1360.0\n",
            "Median without outliers :  1340.0\n",
            "Mode with outliers :  0    960.0\n",
            "Name: load_weight, dtype: float64\n",
            "Mode without outliers :  0    960.0\n",
            "Name: load_weight, dtype: float64\n"
          ]
        }
      ]
    },
    {
      "cell_type": "markdown",
      "source": [
        "## Range, Variance, Standar Deviasi"
      ],
      "metadata": {
        "id": "ICgmnCV44XHb"
      }
    },
    {
      "cell_type": "markdown",
      "source": [
        "6. Menghitung range, variance, dan standar deviasi untuk data load_weight."
      ],
      "metadata": {
        "id": "xIDuvUvezdBn"
      }
    },
    {
      "cell_type": "code",
      "source": [
        "# Menghitung range\n",
        "range = np.ptp(no_outliers['load_weight'])\n",
        "print ('Range : ', range)\n",
        "\n",
        "\n",
        "# Menghitung variance\n",
        "variance = np.var(no_outliers['load_weight'])\n",
        "print ('Varieance : ', variance)\n",
        "\n",
        "\n",
        "# Menghitung stander deviasi\n",
        "std = np.std(no_outliers['load_weight'])\n",
        "print ('Standard deviation : ', std)"
      ],
      "metadata": {
        "id": "S1G2vAO44Ztw",
        "colab": {
          "base_uri": "https://localhost:8080/"
        },
        "outputId": "7f34f303-e41b-4238-d4f1-f535dfbd05ac"
      },
      "execution_count": 31,
      "outputs": [
        {
          "output_type": "stream",
          "name": "stdout",
          "text": [
            "Range :  5960.0\n",
            "Varieance :  986471.677981856\n",
            "Standard deviation :  993.212805989661\n"
          ]
        }
      ]
    },
    {
      "cell_type": "markdown",
      "source": [
        "Dari hasil diatas diperoleh informasi bahwa load weight di lokasi MRF jauh dari nilai rata-rata. "
      ],
      "metadata": {
        "id": "hu2FathX4Cqk"
      }
    },
    {
      "cell_type": "markdown",
      "source": [
        "## Confidence Interval"
      ],
      "metadata": {
        "id": "yhEmKOqt4FrP"
      }
    },
    {
      "cell_type": "markdown",
      "source": [
        "7. Kapasitas penampungan berdasarkan perhitungan confidence interval."
      ],
      "metadata": {
        "id": "0qQiM05gzwhe"
      }
    },
    {
      "cell_type": "code",
      "source": [
        "# Menghitung confidence interval dengan 95%\n",
        "import numpy as np\n",
        "import scipy.stats as st\n",
        "\n",
        "ci = stats.norm.interval(0.95, no_outliers['load_weight'].mean(), no_outliers['load_weight'].std())\n",
        "print ('Confidence interval : ', ci)"
      ],
      "metadata": {
        "colab": {
          "base_uri": "https://localhost:8080/"
        },
        "id": "MkQU9REqKJvq",
        "outputId": "e61a968d-6922-48ee-f713-2ffa359f5c54"
      },
      "execution_count": 32,
      "outputs": [
        {
          "output_type": "stream",
          "name": "stdout",
          "text": [
            "Confidence interval :  (-467.2759909854876, 3437.971112936707)\n"
          ]
        }
      ]
    },
    {
      "cell_type": "code",
      "source": [
        "# Visualisasi confidence interval\n",
        "plt.figure(figsize=(10,5))\n",
        "plt.axvline(no_outliers['load_weight'].mean(), color='red', linewidth=2, label='Load Weight Mean')\n",
        "plt.axvline(ci[1], color='green', linestyle='dashed', linewidth=2, label='CI 95%')\n",
        "plt.axvline(ci[0], color='green', linestyle='dashed', linewidth=2, label='CI 95%')\n",
        "plt.legend()"
      ],
      "metadata": {
        "colab": {
          "base_uri": "https://localhost:8080/",
          "height": 468
        },
        "id": "AwcQ4HE9LT77",
        "outputId": "0b5b1e57-72f6-4c8f-8223-58c6e383db75"
      },
      "execution_count": 33,
      "outputs": [
        {
          "output_type": "execute_result",
          "data": {
            "text/plain": [
              "<matplotlib.legend.Legend at 0x7f18166f9f60>"
            ]
          },
          "metadata": {},
          "execution_count": 33
        },
        {
          "output_type": "display_data",
          "data": {
            "text/plain": [
              "<Figure size 1000x500 with 1 Axes>"
            ],
            "image/png": "[encoded data removed]"
          },
          "metadata": {}
        }
      ]
    },
    {
      "cell_type": "markdown",
      "source": [
        "Berdasarkan hasil perhitungan diatas, load_weight untuk site baru dapat dinilai lebih besar yaitu sebesar 2745.52107029. Hal ini dikarenakan perhitungannya didasarkan pada rata-rata load weight di tempat pembuanagn sampah. Jadi, pemerintah seharusnya mempertimbangkan nilai kapasitas baru yang berada dalam kisaran berat rata-rata agar tidak terjadinya kelebihan muatan."
      ],
      "metadata": {
        "id": "xOno_Z9u59BG"
      }
    },
    {
      "cell_type": "markdown",
      "source": [
        "## Analisa Uji Hipotesis"
      ],
      "metadata": {
        "id": "NYC5qhZAH977"
      }
    },
    {
      "cell_type": "markdown",
      "source": [
        "8. Analisa uji hipotesis menggunakan H0 dan H1 serta melakukan perhitungan menggunakan t-test."
      ],
      "metadata": {
        "id": "Uc0lnuGfFwfq"
      }
    },
    {
      "cell_type": "code",
      "source": [
        "# Menghitung ttest 1 sample 2 tailed\n",
        "t_stat,p_val = stats.ttest_1samp(no_outliers['load_weight'], 1360)\n",
        "\n",
        "print('P-value:',p_val)\n",
        "print('t-statistics:',t_stat)"
      ],
      "metadata": {
        "colab": {
          "base_uri": "https://localhost:8080/"
        },
        "id": "sEfCJvX6H_lI",
        "outputId": "cc81f0a5-dd3d-4ce7-a11d-869bbea267b4"
      },
      "execution_count": 34,
      "outputs": [
        {
          "output_type": "stream",
          "name": "stdout",
          "text": [
            "P-value: 0.10905634470977697\n",
            "t-statistics: 1.6112665067222631\n"
          ]
        }
      ]
    },
    {
      "cell_type": "markdown",
      "source": [
        "Dari perhitungan tersebut dapat menemukan jawabannya dengan menggunakan pengujian hipotesis.\n",
        "\n",
        "Dalam kasus ini :\n",
        "\n",
        "H0 df = 1120\n",
        "\n",
        "H1 df != 1120\n",
        "\n",
        "1120 adalah median load_weight dari df."
      ],
      "metadata": {
        "id": "YDB6vB2o7b3q"
      }
    },
    {
      "cell_type": "markdown",
      "source": [
        "Berdasarkan hasil perhitungan di atas dapat diketahui bahwa H0 ditolak atau reject sehingga dapat di simpulkan bahwa rata-rata load_weight berbeda nyata dengan 1120 (median load_weight)."
      ],
      "metadata": {
        "id": "h3AqxM_W8atm"
      }
    },
    {
      "cell_type": "markdown",
      "source": [
        "## Jawaban untuk mengasah pemahaman"
      ],
      "metadata": {
        "id": "k4_DPg3I9KKJ"
      }
    },
    {
      "cell_type": "markdown",
      "source": [
        "1.   Teknik handling outliers yang digunakan adalah trimming outliers atau remove outliers dari dataset. Hal ini dibuktikan dengan jumlah data semula adalah 168, jumlah outlier adalah 4, dan jumlah data setelah outlier di handle adalah 164. Hal ini dibuktikan pada soal nomor 5.\n",
        "\n",
        "\n",
        "2.   Confidence Interval adalah rentang nilai yang menggambarkan ketidapastian seputar estimasi. Dalam confidence interval, nilai yang digunakan adalah 95%. Confidence interval ini salah satu cara terbaik untuk menunjukkan seberapa baiknya suatu estimasi. Jika memang menolak H0, ada 5% kemungkinan hipotesis alternatif gagal, sedangkan 95% dari alternatif hipotesis adalah benar.\n",
        "\n",
        "\n",
        "3.   Saya menggunakan metode T-test One Sample dikarenakan untuk menentukan apakah rata-rata yang dihitung dari data yang dikumpulkan dari satu kelompok berbeda dari nilai yang ditentukan.\n",
        "\n"
      ],
      "metadata": {
        "id": "Td529mnd9Syw"
      }
    },
    {
      "cell_type": "markdown",
      "source": [
        "# Problem 2 (Math/Calculus)"
      ],
      "metadata": {
        "id": "xxDsP3e_R28P"
      }
    },
    {
      "cell_type": "code",
      "source": [
        "# Group by berdasarkan report date dan load weight\n",
        "Forecasting = df.groupby('report_date')['load_weight'].sum().to_frame()\n",
        "Forecasting"
      ],
      "metadata": {
        "colab": {
          "base_uri": "https://localhost:8080/",
          "height": 455
        },
        "id": "vgROikBlSM8v",
        "outputId": "39bce2df-e186-452e-99ad-6770274c93d6"
      },
      "execution_count": 35,
      "outputs": [
        {
          "output_type": "execute_result",
          "data": {
            "text/plain": [
              "             load_weight\n",
              "report_date             \n",
              "2021-01-01       45200.0\n",
              "2021-01-02     2204030.0\n",
              "2021-01-04     2920260.0\n",
              "2021-01-05     2399840.0\n",
              "2021-01-06     2453050.0\n",
              "...                  ...\n",
              "2021-07-05     1897290.0\n",
              "2021-07-06     1989440.0\n",
              "2021-07-07     1654780.0\n",
              "2021-07-08     1541950.0\n",
              "2021-07-09      176840.0\n",
              "\n",
              "[166 rows x 1 columns]"
            ],
            "text/html": [
              "\n",
              "  <div id=\"df-32be6d26-97c7-4519-bdb6-cb2a13e8a031\">\n",
              "    <div class=\"colab-df-container\">\n",
              "      <div>\n",
              "<style scoped>\n",
              "    .dataframe tbody tr th:only-of-type {\n",
              "        vertical-align: middle;\n",
              "    }\n",
              "\n",
              "    .dataframe tbody tr th {\n",
              "        vertical-align: top;\n",
              "    }\n",
              "\n",
              "    .dataframe thead th {\n",
              "        text-align: right;\n",
              "    }\n",
              "</style>\n",
              "<table border=\"1\" class=\"dataframe\">\n",
              "  <thead>\n",
              "    <tr style=\"text-align: right;\">\n",
              "      <th></th>\n",
              "      <th>load_weight</th>\n",
              "    </tr>\n",
              "    <tr>\n",
              "      <th>report_date</th>\n",
              "      <th></th>\n",
              "    </tr>\n",
              "  </thead>\n",
              "  <tbody>\n",
              "    <tr>\n",
              "      <th>2021-01-01</th>\n",
              "      <td>45200.0</td>\n",
              "    </tr>\n",
              "    <tr>\n",
              "      <th>2021-01-02</th>\n",
              "      <td>2204030.0</td>\n",
              "    </tr>\n",
              "    <tr>\n",
              "      <th>2021-01-04</th>\n",
              "      <td>2920260.0</td>\n",
              "    </tr>\n",
              "    <tr>\n",
              "      <th>2021-01-05</th>\n",
              "      <td>2399840.0</td>\n",
              "    </tr>\n",
              "    <tr>\n",
              "      <th>2021-01-06</th>\n",
              "      <td>2453050.0</td>\n",
              "    </tr>\n",
              "    <tr>\n",
              "      <th>...</th>\n",
              "      <td>...</td>\n",
              "    </tr>\n",
              "    <tr>\n",
              "      <th>2021-07-05</th>\n",
              "      <td>1897290.0</td>\n",
              "    </tr>\n",
              "    <tr>\n",
              "      <th>2021-07-06</th>\n",
              "      <td>1989440.0</td>\n",
              "    </tr>\n",
              "    <tr>\n",
              "      <th>2021-07-07</th>\n",
              "      <td>1654780.0</td>\n",
              "    </tr>\n",
              "    <tr>\n",
              "      <th>2021-07-08</th>\n",
              "      <td>1541950.0</td>\n",
              "    </tr>\n",
              "    <tr>\n",
              "      <th>2021-07-09</th>\n",
              "      <td>176840.0</td>\n",
              "    </tr>\n",
              "  </tbody>\n",
              "</table>\n",
              "<p>166 rows × 1 columns</p>\n",
              "</div>\n",
              "      <button class=\"colab-df-convert\" onclick=\"convertToInteractive('df-32be6d26-97c7-4519-bdb6-cb2a13e8a031')\"\n",
              "              title=\"Convert this dataframe to an interactive table.\"\n",
              "              style=\"display:none;\">\n",
              "        \n",
              "  <svg xmlns=\"http://www.w3.org/2000/svg\" height=\"24px\"viewBox=\"0 0 24 24\"\n",
              "       width=\"24px\">\n",
              "    <path d=\"M0 0h24v24H0V0z\" fill=\"none\"/>\n",
              "    <path d=\"M18.56 5.44l.94 2.06.94-2.06 2.06-.94-2.06-.94-.94-2.06-.94 2.06-2.06.94zm-11 1L8.5 8.5l.94-2.06 2.06-.94-2.06-.94L8.5 2.5l-.94 2.06-2.06.94zm10 10l.94 2.06.94-2.06 2.06-.94-2.06-.94-.94-2.06-.94 2.06-2.06.94z\"/><path d=\"M17.41 7.96l-1.37-1.37c-.4-.4-.92-.59-1.43-.59-.52 0-1.04.2-1.43.59L10.3 9.45l-7.72 7.72c-.78.78-.78 2.05 0 2.83L4 21.41c.39.39.9.59 1.41.59.51 0 1.02-.2 1.41-.59l7.78-7.78 2.81-2.81c.8-.78.8-2.07 0-2.86zM5.41 20L4 18.59l7.72-7.72 1.47 1.35L5.41 20z\"/>\n",
              "  </svg>\n",
              "      </button>\n",
              "      \n",
              "  <style>\n",
              "    .colab-df-container {\n",
              "      display:flex;\n",
              "      flex-wrap:wrap;\n",
              "      gap: 12px;\n",
              "    }\n",
              "\n",
              "    .colab-df-convert {\n",
              "      background-color: #E8F0FE;\n",
              "      border: none;\n",
              "      border-radius: 50%;\n",
              "      cursor: pointer;\n",
              "      display: none;\n",
              "      fill: #1967D2;\n",
              "      height: 32px;\n",
              "      padding: 0 0 0 0;\n",
              "      width: 32px;\n",
              "    }\n",
              "\n",
              "    .colab-df-convert:hover {\n",
              "      background-color: #E2EBFA;\n",
              "      box-shadow: 0px 1px 2px rgba(60, 64, 67, 0.3), 0px 1px 3px 1px rgba(60, 64, 67, 0.15);\n",
              "      fill: #174EA6;\n",
              "    }\n",
              "\n",
              "    [theme=dark] .colab-df-convert {\n",
              "      background-color: #3B4455;\n",
              "      fill: #D2E3FC;\n",
              "    }\n",
              "\n",
              "    [theme=dark] .colab-df-convert:hover {\n",
              "      background-color: #434B5C;\n",
              "      box-shadow: 0px 1px 3px 1px rgba(0, 0, 0, 0.15);\n",
              "      filter: drop-shadow(0px 1px 2px rgba(0, 0, 0, 0.3));\n",
              "      fill: #FFFFFF;\n",
              "    }\n",
              "  </style>\n",
              "\n",
              "      <script>\n",
              "        const buttonEl =\n",
              "          document.querySelector('#df-32be6d26-97c7-4519-bdb6-cb2a13e8a031 button.colab-df-convert');\n",
              "        buttonEl.style.display =\n",
              "          google.colab.kernel.accessAllowed ? 'block' : 'none';\n",
              "\n",
              "        async function convertToInteractive(key) {\n",
              "          const element = document.querySelector('#df-32be6d26-97c7-4519-bdb6-cb2a13e8a031');\n",
              "          const dataTable =\n",
              "            await google.colab.kernel.invokeFunction('convertToInteractive',\n",
              "                                                     [key], {});\n",
              "          if (!dataTable) return;\n",
              "\n",
              "          const docLinkHtml = 'Like what you see? Visit the ' +\n",
              "            '<a target=\"_blank\" href=https://colab.research.google.com/notebooks/data_table.ipynb>data table notebook</a>'\n",
              "            + ' to learn more about interactive tables.';\n",
              "          element.innerHTML = '';\n",
              "          dataTable['output_type'] = 'display_data';\n",
              "          await google.colab.output.renderOutput(dataTable, element);\n",
              "          const docLink = document.createElement('div');\n",
              "          docLink.innerHTML = docLinkHtml;\n",
              "          element.appendChild(docLink);\n",
              "        }\n",
              "      </script>\n",
              "    </div>\n",
              "  </div>\n",
              "  "
            ]
          },
          "metadata": {},
          "execution_count": 35
        }
      ]
    },
    {
      "cell_type": "code",
      "source": [
        "Forecasting.info()"
      ],
      "metadata": {
        "colab": {
          "base_uri": "https://localhost:8080/"
        },
        "id": "7icN9GgNvSML",
        "outputId": "d55358ae-a4cd-43d6-c58b-f5b2cdde5334"
      },
      "execution_count": 36,
      "outputs": [
        {
          "output_type": "stream",
          "name": "stdout",
          "text": [
            "<class 'pandas.core.frame.DataFrame'>\n",
            "DatetimeIndex: 166 entries, 2021-01-01 to 2021-07-09\n",
            "Data columns (total 1 columns):\n",
            " #   Column       Non-Null Count  Dtype  \n",
            "---  ------       --------------  -----  \n",
            " 0   load_weight  166 non-null    float64\n",
            "dtypes: float64(1)\n",
            "memory usage: 2.6 KB\n"
          ]
        }
      ]
    },
    {
      "cell_type": "code",
      "source": [
        "# mengatur ulang indeks kembali ke indeks default 0, 1, 2 dll.\n",
        "Forecasting_new = Forecasting.reset_index().index"
      ],
      "metadata": {
        "id": "lrekdndoEzPV"
      },
      "execution_count": 37,
      "outputs": []
    },
    {
      "cell_type": "code",
      "source": [
        "# Menghitung turunan pertama\n",
        "v = np.diff(Forecasting['load_weight'])/np.diff(Forecasting_new)\n",
        "v"
      ],
      "metadata": {
        "colab": {
          "base_uri": "https://localhost:8080/"
        },
        "id": "YS_s4K7-E9bA",
        "outputId": "e348b8da-aa10-4661-97ca-38e5aecd6233"
      },
      "execution_count": 38,
      "outputs": [
        {
          "output_type": "execute_result",
          "data": {
            "text/plain": [
              "array([ 2.15883000e+06,  7.16230000e+05, -5.20420000e+05,  5.32100000e+04,\n",
              "        6.43800000e+04, -6.04680000e+05, -1.85071000e+06,  2.44587000e+06,\n",
              "       -4.22690000e+05,  6.24600000e+04,  5.46700000e+04, -3.83660000e+05,\n",
              "       -1.72733000e+06,  2.39549000e+06, -1.88290000e+05, -2.26300000e+04,\n",
              "       -8.62600000e+04, -3.20670000e+05, -1.64092000e+06,  2.33737000e+06,\n",
              "       -4.62800000e+05,  9.81900000e+04,  2.32000000e+03, -4.11490000e+05,\n",
              "       -1.74633000e+06,  2.40544000e+06, -3.60620000e+05, -5.30800000e+04,\n",
              "        1.16700000e+05, -3.38770000e+05, -1.75605000e+06, -4.47800000e+04,\n",
              "        2.65335000e+06, -3.93250000e+05,  9.04200000e+04, -1.49238000e+06,\n",
              "        1.03346000e+06, -1.87290000e+06,  1.05132000e+06,  2.66098000e+06,\n",
              "       -5.04400000e+05,  1.42590000e+05,  5.24300000e+04, -9.28000000e+05,\n",
              "       -2.21332000e+06, -4.05800000e+04,  2.95084000e+06, -2.95220000e+05,\n",
              "       -1.60400000e+04,  6.48000000e+03, -3.54825000e+05, -2.24201500e+06,\n",
              "       -1.18620000e+05,  3.13963000e+06, -9.79300000e+04, -2.55170000e+05,\n",
              "       -5.62800000e+04, -4.09050000e+05, -2.14006000e+06,  2.59080000e+05,\n",
              "        2.42060000e+06, -3.41880000e+05, -1.75440000e+05,  5.21900000e+04,\n",
              "       -4.31290000e+05, -1.92788000e+06,  1.16540000e+05,  2.63209012e+06,\n",
              "       -3.11330009e+05,  8.87198836e+04,  1.36000000e+03, -3.57560000e+05,\n",
              "       -1.78233200e+06, -3.55968000e+05,  2.74004000e+06, -1.80920000e+05,\n",
              "       -3.87740000e+05,  1.78860000e+05, -6.70650000e+05, -1.86545000e+06,\n",
              "        2.15751000e+06,  2.16430000e+05, -2.43100000e+05,  8.34480000e+04,\n",
              "       -2.45628000e+05, -1.88270000e+06,  2.55255000e+06, -7.33000000e+03,\n",
              "       -1.03080000e+05, -1.23250000e+05, -3.93670000e+05, -1.74288000e+06,\n",
              "       -3.32560000e+05,  2.70263000e+06, -3.44430000e+05,  5.48000000e+04,\n",
              "       -9.77600000e+04, -3.90020000e+05, -1.59054000e+06,  2.18963800e+06,\n",
              "       -1.65058000e+05,  1.36440000e+05, -3.02940000e+05, -2.77640000e+05,\n",
              "       -1.70834000e+06,  2.39755000e+06, -3.29970000e+05,  1.46470000e+05,\n",
              "       -1.20150000e+05, -1.75050000e+05, -1.79971000e+06,  2.26746000e+06,\n",
              "       -1.99650000e+05,  6.69700000e+04, -9.70000000e+02, -4.05430000e+05,\n",
              "       -1.86610000e+06,  2.55128000e+06, -3.61120000e+05, -3.30000000e+03,\n",
              "       -1.68650000e+05, -3.58440000e+05, -1.79025000e+06,  2.32110900e+06,\n",
              "       -1.09219000e+05,  1.71607000e+05, -4.07270000e+04, -5.73040000e+05,\n",
              "       -1.78539000e+06, -4.24400000e+04,  2.60093000e+06, -1.84530000e+05,\n",
              "        1.18010000e+05, -1.39500000e+04, -4.10740000e+05, -1.80280000e+06,\n",
              "        2.54612000e+06, -3.58250000e+05, -2.07597020e+04, -2.02980000e+01,\n",
              "       -4.71600000e+05, -1.76001000e+06,  2.46431000e+06, -4.84150000e+05,\n",
              "        7.05400000e+04, -8.50000000e+02, -4.48410000e+05, -1.71880000e+06,\n",
              "        2.52381000e+06, -4.67400000e+05,  9.26500000e+04, -6.34500000e+04,\n",
              "       -5.68380000e+05, -1.57071000e+06,  2.51279000e+06, -5.08100000e+05,\n",
              "        3.00000000e+01,  8.50000000e+02, -3.39450000e+05, -1.46368000e+06,\n",
              "        1.62125000e+06,  9.21500000e+04, -3.34660000e+05, -1.12830000e+05,\n",
              "       -1.36511000e+06])"
            ]
          },
          "metadata": {},
          "execution_count": 38
        }
      ]
    },
    {
      "cell_type": "code",
      "source": [
        "# Forecasting load sampah di kota Austin pada tanggal 10 Juli 2021\n",
        "tomorrow = Forecasting['load_weight'][-1] + v[-1] * 1\n",
        "abs(tomorrow)"
      ],
      "metadata": {
        "colab": {
          "base_uri": "https://localhost:8080/"
        },
        "id": "wcXm8RzmGERK",
        "outputId": "2ddcf3b1-fc83-4a74-a469-e2d5a155cc57"
      },
      "execution_count": 39,
      "outputs": [
        {
          "output_type": "execute_result",
          "data": {
            "text/plain": [
              "1188270.0"
            ]
          },
          "metadata": {},
          "execution_count": 39
        }
      ]
    },
    {
      "cell_type": "markdown",
      "source": [
        "## Jawaban untuk mengasah pemahaman"
      ],
      "metadata": {
        "id": "reKEW9zS-6E2"
      }
    },
    {
      "cell_type": "markdown",
      "source": [
        "1. Teknik yang digunakan dalam kasus ini menggunakan metode numeric. Hal ini dikarenakan dapat menurunkan load_weight ke load_weight setiap harinya dengan menghitung selisih antara load_weight.\n",
        "\n",
        "\n",
        "2. Saya membutuhkan fungsi matematis untuk menghitung turunan dengan function np.diff() untuk menghitung perbedaan ke-n di sepanjang axis yang diberikan.\n",
        "\n",
        "\n",
        "3. Estimasi atau perkiraan load weight pada tanggal 10 Juli 2021 adalah 1188270.0"
      ],
      "metadata": {
        "id": "l0-33FJw-_oE"
      }
    },
    {
      "cell_type": "markdown",
      "source": [
        "# Poin Analisis"
      ],
      "metadata": {
        "id": "iEXxwgFEA8qh"
      }
    },
    {
      "cell_type": "markdown",
      "source": [
        "- Dengan menganalisis dropoff site pada MRF diberitahu bahwa memiliki right skewed distribution yang artinya rata-rata sering kali lebih besar daripada median. \n",
        "\n",
        "\n",
        "- Jika pemerintah ingin menambah dropoff site baru, sangat disarankan untuk memiliki kapasitas lebih besar yaitu sebsar 2745.5210702 sesuai perhitungan confidence interval.\n",
        "\n",
        "\n",
        "- Estimasi total load weight pada 10 Juli 2021 adalah sebesar 1188270.0\n",
        "\n"
      ],
      "metadata": {
        "id": "5V6UfHc3BBdT"
      }
    }
  ]
}